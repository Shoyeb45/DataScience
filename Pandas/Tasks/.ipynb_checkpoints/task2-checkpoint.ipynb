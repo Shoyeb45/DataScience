{
 "cells": [
  {
   "cell_type": "code",
   "execution_count": 2,
   "id": "1cae7ae0-72d4-4a4a-bc34-c9f085fb039e",
   "metadata": {},
   "outputs": [],
   "source": [
    "import pandas as pd\n",
    "import matplotlib.pyplot as plt"
   ]
  },
  {
   "cell_type": "code",
   "execution_count": 3,
   "id": "8a3314d5-ed45-4d00-9d78-81eb22525905",
   "metadata": {},
   "outputs": [],
   "source": [
    "df = pd.read_csv(\"E:/Notes/DataScience/Pandas/cardekhoDataset.csv\")"
   ]
  },
  {
   "cell_type": "code",
   "execution_count": 4,
   "id": "505a19d6-79db-40e3-85a9-13d319fe4b76",
   "metadata": {},
   "outputs": [
    {
     "data": {
      "text/html": [
       "<div>\n",
       "<style scoped>\n",
       "    .dataframe tbody tr th:only-of-type {\n",
       "        vertical-align: middle;\n",
       "    }\n",
       "\n",
       "    .dataframe tbody tr th {\n",
       "        vertical-align: top;\n",
       "    }\n",
       "\n",
       "    .dataframe thead th {\n",
       "        text-align: right;\n",
       "    }\n",
       "</style>\n",
       "<table border=\"1\" class=\"dataframe\">\n",
       "  <thead>\n",
       "    <tr style=\"text-align: right;\">\n",
       "      <th></th>\n",
       "      <th>Unnamed: 0</th>\n",
       "      <th>car_name</th>\n",
       "      <th>brand</th>\n",
       "      <th>model</th>\n",
       "      <th>vehicle_age</th>\n",
       "      <th>km_driven</th>\n",
       "      <th>seller_type</th>\n",
       "      <th>fuel_type</th>\n",
       "      <th>transmission_type</th>\n",
       "      <th>mileage</th>\n",
       "      <th>engine</th>\n",
       "      <th>max_power</th>\n",
       "      <th>seats</th>\n",
       "      <th>selling_price</th>\n",
       "    </tr>\n",
       "  </thead>\n",
       "  <tbody>\n",
       "    <tr>\n",
       "      <th>0</th>\n",
       "      <td>0</td>\n",
       "      <td>Maruti Alto</td>\n",
       "      <td>Maruti</td>\n",
       "      <td>Alto</td>\n",
       "      <td>9</td>\n",
       "      <td>120000</td>\n",
       "      <td>Individual</td>\n",
       "      <td>Petrol</td>\n",
       "      <td>Manual</td>\n",
       "      <td>19.70</td>\n",
       "      <td>796</td>\n",
       "      <td>46.30</td>\n",
       "      <td>5</td>\n",
       "      <td>120000</td>\n",
       "    </tr>\n",
       "    <tr>\n",
       "      <th>1</th>\n",
       "      <td>1</td>\n",
       "      <td>Hyundai Grand</td>\n",
       "      <td>Hyundai</td>\n",
       "      <td>Grand</td>\n",
       "      <td>5</td>\n",
       "      <td>20000</td>\n",
       "      <td>Individual</td>\n",
       "      <td>Petrol</td>\n",
       "      <td>Manual</td>\n",
       "      <td>18.90</td>\n",
       "      <td>1197</td>\n",
       "      <td>82.00</td>\n",
       "      <td>5</td>\n",
       "      <td>550000</td>\n",
       "    </tr>\n",
       "    <tr>\n",
       "      <th>2</th>\n",
       "      <td>2</td>\n",
       "      <td>Hyundai i20</td>\n",
       "      <td>Hyundai</td>\n",
       "      <td>i20</td>\n",
       "      <td>11</td>\n",
       "      <td>60000</td>\n",
       "      <td>Individual</td>\n",
       "      <td>Petrol</td>\n",
       "      <td>Manual</td>\n",
       "      <td>17.00</td>\n",
       "      <td>1197</td>\n",
       "      <td>80.00</td>\n",
       "      <td>5</td>\n",
       "      <td>215000</td>\n",
       "    </tr>\n",
       "    <tr>\n",
       "      <th>3</th>\n",
       "      <td>3</td>\n",
       "      <td>Maruti Alto</td>\n",
       "      <td>Maruti</td>\n",
       "      <td>Alto</td>\n",
       "      <td>9</td>\n",
       "      <td>37000</td>\n",
       "      <td>Individual</td>\n",
       "      <td>Petrol</td>\n",
       "      <td>Manual</td>\n",
       "      <td>20.92</td>\n",
       "      <td>998</td>\n",
       "      <td>67.10</td>\n",
       "      <td>5</td>\n",
       "      <td>226000</td>\n",
       "    </tr>\n",
       "    <tr>\n",
       "      <th>4</th>\n",
       "      <td>4</td>\n",
       "      <td>Ford Ecosport</td>\n",
       "      <td>Ford</td>\n",
       "      <td>Ecosport</td>\n",
       "      <td>6</td>\n",
       "      <td>30000</td>\n",
       "      <td>Dealer</td>\n",
       "      <td>Diesel</td>\n",
       "      <td>Manual</td>\n",
       "      <td>22.77</td>\n",
       "      <td>1498</td>\n",
       "      <td>98.59</td>\n",
       "      <td>5</td>\n",
       "      <td>570000</td>\n",
       "    </tr>\n",
       "  </tbody>\n",
       "</table>\n",
       "</div>"
      ],
      "text/plain": [
       "   Unnamed: 0       car_name    brand     model  vehicle_age  km_driven  \\\n",
       "0           0    Maruti Alto   Maruti      Alto            9     120000   \n",
       "1           1  Hyundai Grand  Hyundai     Grand            5      20000   \n",
       "2           2    Hyundai i20  Hyundai       i20           11      60000   \n",
       "3           3    Maruti Alto   Maruti      Alto            9      37000   \n",
       "4           4  Ford Ecosport     Ford  Ecosport            6      30000   \n",
       "\n",
       "  seller_type fuel_type transmission_type  mileage  engine  max_power  seats  \\\n",
       "0  Individual    Petrol            Manual    19.70     796      46.30      5   \n",
       "1  Individual    Petrol            Manual    18.90    1197      82.00      5   \n",
       "2  Individual    Petrol            Manual    17.00    1197      80.00      5   \n",
       "3  Individual    Petrol            Manual    20.92     998      67.10      5   \n",
       "4      Dealer    Diesel            Manual    22.77    1498      98.59      5   \n",
       "\n",
       "   selling_price  \n",
       "0         120000  \n",
       "1         550000  \n",
       "2         215000  \n",
       "3         226000  \n",
       "4         570000  "
      ]
     },
     "execution_count": 4,
     "metadata": {},
     "output_type": "execute_result"
    }
   ],
   "source": [
    "df.head()"
   ]
  },
  {
   "cell_type": "code",
   "execution_count": 5,
   "id": "10c8b0ca-e91c-4e65-b684-e3bd3419c152",
   "metadata": {},
   "outputs": [
    {
     "name": "stdout",
     "output_type": "stream",
     "text": [
      "<class 'pandas.core.frame.DataFrame'>\n",
      "RangeIndex: 15411 entries, 0 to 15410\n",
      "Data columns (total 14 columns):\n",
      " #   Column             Non-Null Count  Dtype  \n",
      "---  ------             --------------  -----  \n",
      " 0   Unnamed: 0         15411 non-null  int64  \n",
      " 1   car_name           15411 non-null  object \n",
      " 2   brand              15411 non-null  object \n",
      " 3   model              15411 non-null  object \n",
      " 4   vehicle_age        15411 non-null  int64  \n",
      " 5   km_driven          15411 non-null  int64  \n",
      " 6   seller_type        15411 non-null  object \n",
      " 7   fuel_type          15411 non-null  object \n",
      " 8   transmission_type  15411 non-null  object \n",
      " 9   mileage            15411 non-null  float64\n",
      " 10  engine             15411 non-null  int64  \n",
      " 11  max_power          15411 non-null  float64\n",
      " 12  seats              15411 non-null  int64  \n",
      " 13  selling_price      15411 non-null  int64  \n",
      "dtypes: float64(2), int64(6), object(6)\n",
      "memory usage: 1.6+ MB\n"
     ]
    }
   ],
   "source": [
    "df.info()"
   ]
  },
  {
   "cell_type": "code",
   "execution_count": 6,
   "id": "11d33ef5-911a-44d0-ae50-f7e2aa085ffe",
   "metadata": {},
   "outputs": [],
   "source": [
    "# 1. How many unique brands are there in the dataset, and which brand has the most listings?"
   ]
  },
  {
   "cell_type": "code",
   "execution_count": 7,
   "id": "2bec1c53-e50d-44a5-8ef0-d54ee372aaee",
   "metadata": {},
   "outputs": [
    {
     "data": {
      "text/plain": [
       "32"
      ]
     },
     "execution_count": 7,
     "metadata": {},
     "output_type": "execute_result"
    }
   ],
   "source": [
    "len(set(df[\"brand\"]))"
   ]
  },
  {
   "cell_type": "code",
   "execution_count": 8,
   "id": "ef297f30-f134-4f87-81b8-7da4cf824b2a",
   "metadata": {},
   "outputs": [
    {
     "data": {
      "text/plain": [
       "32"
      ]
     },
     "execution_count": 8,
     "metadata": {},
     "output_type": "execute_result"
    }
   ],
   "source": [
    "l = df[\"brand\"].unique()\n",
    "len(l)"
   ]
  },
  {
   "cell_type": "code",
   "execution_count": 9,
   "id": "b9ad76bf-4c80-426c-a198-f8fb63e94fa9",
   "metadata": {
    "scrolled": true
   },
   "outputs": [
    {
     "data": {
      "text/plain": [
       "count      15411\n",
       "unique        32\n",
       "top       Maruti\n",
       "freq        4992\n",
       "Name: brand, dtype: object"
      ]
     },
     "execution_count": 9,
     "metadata": {},
     "output_type": "execute_result"
    }
   ],
   "source": [
    "    df[\"brand\"].describe()\n"
   ]
  },
  {
   "cell_type": "code",
   "execution_count": 10,
   "id": "f6dd6d3e-bdc1-42a7-94e6-e683aa8e3d0f",
   "metadata": {},
   "outputs": [],
   "source": [
    "# 2. What is the average selling price of vehicles by fuel type?"
   ]
  },
  {
   "cell_type": "code",
   "execution_count": 11,
   "id": "ed6d21fc-fdf8-420d-b5cc-b354a39fa332",
   "metadata": {},
   "outputs": [
    {
     "data": {
      "text/plain": [
       "fuel_type\n",
       "CNG         4.176877e+05\n",
       "Diesel      1.000469e+06\n",
       "Electric    1.853500e+06\n",
       "LPG         2.062727e+05\n",
       "Petrol      5.728619e+05\n",
       "Name: selling_price, dtype: float64"
      ]
     },
     "execution_count": 11,
     "metadata": {},
     "output_type": "execute_result"
    }
   ],
   "source": [
    "df.groupby(\"fuel_type\")[\"selling_price\"].mean()"
   ]
  },
  {
   "cell_type": "code",
   "execution_count": 12,
   "id": "9c6fc8d6-f2d1-4be6-ab78-115e7bb49d0d",
   "metadata": {},
   "outputs": [],
   "source": [
    "# 3. Show the distribution of vehicles by transmission type and fuel type. How do manual and automatic vehicles compare in terms of fuel type prevalence?"
   ]
  },
  {
   "cell_type": "code",
   "execution_count": 13,
   "id": "6a973c8e-cec4-4c81-bb7c-bea511acb235",
   "metadata": {},
   "outputs": [
    {
     "data": {
      "text/html": [
       "<div>\n",
       "<style scoped>\n",
       "    .dataframe tbody tr th:only-of-type {\n",
       "        vertical-align: middle;\n",
       "    }\n",
       "\n",
       "    .dataframe tbody tr th {\n",
       "        vertical-align: top;\n",
       "    }\n",
       "\n",
       "    .dataframe thead th {\n",
       "        text-align: right;\n",
       "    }\n",
       "</style>\n",
       "<table border=\"1\" class=\"dataframe\">\n",
       "  <thead>\n",
       "    <tr style=\"text-align: right;\">\n",
       "      <th></th>\n",
       "      <th>seller_type</th>\n",
       "      <th>transmission_type</th>\n",
       "    </tr>\n",
       "    <tr>\n",
       "      <th>brand</th>\n",
       "      <th></th>\n",
       "      <th></th>\n",
       "    </tr>\n",
       "  </thead>\n",
       "  <tbody>\n",
       "    <tr>\n",
       "      <th>Audi</th>\n",
       "      <td>192</td>\n",
       "      <td>192</td>\n",
       "    </tr>\n",
       "    <tr>\n",
       "      <th>BMW</th>\n",
       "      <td>439</td>\n",
       "      <td>439</td>\n",
       "    </tr>\n",
       "    <tr>\n",
       "      <th>Bentley</th>\n",
       "      <td>3</td>\n",
       "      <td>3</td>\n",
       "    </tr>\n",
       "    <tr>\n",
       "      <th>Datsun</th>\n",
       "      <td>170</td>\n",
       "      <td>170</td>\n",
       "    </tr>\n",
       "    <tr>\n",
       "      <th>Ferrari</th>\n",
       "      <td>1</td>\n",
       "      <td>1</td>\n",
       "    </tr>\n",
       "    <tr>\n",
       "      <th>Force</th>\n",
       "      <td>1</td>\n",
       "      <td>1</td>\n",
       "    </tr>\n",
       "    <tr>\n",
       "      <th>Ford</th>\n",
       "      <td>790</td>\n",
       "      <td>790</td>\n",
       "    </tr>\n",
       "    <tr>\n",
       "      <th>Honda</th>\n",
       "      <td>1485</td>\n",
       "      <td>1485</td>\n",
       "    </tr>\n",
       "    <tr>\n",
       "      <th>Hyundai</th>\n",
       "      <td>2982</td>\n",
       "      <td>2982</td>\n",
       "    </tr>\n",
       "    <tr>\n",
       "      <th>ISUZU</th>\n",
       "      <td>2</td>\n",
       "      <td>2</td>\n",
       "    </tr>\n",
       "    <tr>\n",
       "      <th>Isuzu</th>\n",
       "      <td>8</td>\n",
       "      <td>8</td>\n",
       "    </tr>\n",
       "    <tr>\n",
       "      <th>Jaguar</th>\n",
       "      <td>59</td>\n",
       "      <td>59</td>\n",
       "    </tr>\n",
       "    <tr>\n",
       "      <th>Jeep</th>\n",
       "      <td>41</td>\n",
       "      <td>41</td>\n",
       "    </tr>\n",
       "    <tr>\n",
       "      <th>Kia</th>\n",
       "      <td>32</td>\n",
       "      <td>32</td>\n",
       "    </tr>\n",
       "    <tr>\n",
       "      <th>Land Rover</th>\n",
       "      <td>51</td>\n",
       "      <td>51</td>\n",
       "    </tr>\n",
       "    <tr>\n",
       "      <th>Lexus</th>\n",
       "      <td>10</td>\n",
       "      <td>10</td>\n",
       "    </tr>\n",
       "    <tr>\n",
       "      <th>MG</th>\n",
       "      <td>19</td>\n",
       "      <td>19</td>\n",
       "    </tr>\n",
       "    <tr>\n",
       "      <th>Mahindra</th>\n",
       "      <td>1011</td>\n",
       "      <td>1011</td>\n",
       "    </tr>\n",
       "    <tr>\n",
       "      <th>Maruti</th>\n",
       "      <td>4992</td>\n",
       "      <td>4992</td>\n",
       "    </tr>\n",
       "    <tr>\n",
       "      <th>Maserati</th>\n",
       "      <td>2</td>\n",
       "      <td>2</td>\n",
       "    </tr>\n",
       "    <tr>\n",
       "      <th>Mercedes-AMG</th>\n",
       "      <td>1</td>\n",
       "      <td>1</td>\n",
       "    </tr>\n",
       "    <tr>\n",
       "      <th>Mercedes-Benz</th>\n",
       "      <td>337</td>\n",
       "      <td>337</td>\n",
       "    </tr>\n",
       "    <tr>\n",
       "      <th>Mini</th>\n",
       "      <td>17</td>\n",
       "      <td>17</td>\n",
       "    </tr>\n",
       "    <tr>\n",
       "      <th>Nissan</th>\n",
       "      <td>11</td>\n",
       "      <td>11</td>\n",
       "    </tr>\n",
       "    <tr>\n",
       "      <th>Porsche</th>\n",
       "      <td>21</td>\n",
       "      <td>21</td>\n",
       "    </tr>\n",
       "    <tr>\n",
       "      <th>Renault</th>\n",
       "      <td>536</td>\n",
       "      <td>536</td>\n",
       "    </tr>\n",
       "    <tr>\n",
       "      <th>Rolls-Royce</th>\n",
       "      <td>1</td>\n",
       "      <td>1</td>\n",
       "    </tr>\n",
       "    <tr>\n",
       "      <th>Skoda</th>\n",
       "      <td>334</td>\n",
       "      <td>334</td>\n",
       "    </tr>\n",
       "    <tr>\n",
       "      <th>Tata</th>\n",
       "      <td>430</td>\n",
       "      <td>430</td>\n",
       "    </tr>\n",
       "    <tr>\n",
       "      <th>Toyota</th>\n",
       "      <td>793</td>\n",
       "      <td>793</td>\n",
       "    </tr>\n",
       "    <tr>\n",
       "      <th>Volkswagen</th>\n",
       "      <td>620</td>\n",
       "      <td>620</td>\n",
       "    </tr>\n",
       "    <tr>\n",
       "      <th>Volvo</th>\n",
       "      <td>20</td>\n",
       "      <td>20</td>\n",
       "    </tr>\n",
       "  </tbody>\n",
       "</table>\n",
       "</div>"
      ],
      "text/plain": [
       "               seller_type  transmission_type\n",
       "brand                                        \n",
       "Audi                   192                192\n",
       "BMW                    439                439\n",
       "Bentley                  3                  3\n",
       "Datsun                 170                170\n",
       "Ferrari                  1                  1\n",
       "Force                    1                  1\n",
       "Ford                   790                790\n",
       "Honda                 1485               1485\n",
       "Hyundai               2982               2982\n",
       "ISUZU                    2                  2\n",
       "Isuzu                    8                  8\n",
       "Jaguar                  59                 59\n",
       "Jeep                    41                 41\n",
       "Kia                     32                 32\n",
       "Land Rover              51                 51\n",
       "Lexus                   10                 10\n",
       "MG                      19                 19\n",
       "Mahindra              1011               1011\n",
       "Maruti                4992               4992\n",
       "Maserati                 2                  2\n",
       "Mercedes-AMG             1                  1\n",
       "Mercedes-Benz          337                337\n",
       "Mini                    17                 17\n",
       "Nissan                  11                 11\n",
       "Porsche                 21                 21\n",
       "Renault                536                536\n",
       "Rolls-Royce              1                  1\n",
       "Skoda                  334                334\n",
       "Tata                   430                430\n",
       "Toyota                 793                793\n",
       "Volkswagen             620                620\n",
       "Volvo                   20                 20"
      ]
     },
     "execution_count": 13,
     "metadata": {},
     "output_type": "execute_result"
    }
   ],
   "source": [
    "df.groupby(\"brand\")[[\"seller_type\",  \"transmission_type\"]].count()"
   ]
  },
  {
   "cell_type": "code",
   "execution_count": 14,
   "id": "c6eb70d4-9c9c-4874-9b6a-4dd9b0a7b63d",
   "metadata": {},
   "outputs": [
    {
     "data": {
      "text/html": [
       "<div>\n",
       "<style scoped>\n",
       "    .dataframe tbody tr th:only-of-type {\n",
       "        vertical-align: middle;\n",
       "    }\n",
       "\n",
       "    .dataframe tbody tr th {\n",
       "        vertical-align: top;\n",
       "    }\n",
       "\n",
       "    .dataframe thead th {\n",
       "        text-align: right;\n",
       "    }\n",
       "</style>\n",
       "<table border=\"1\" class=\"dataframe\">\n",
       "  <thead>\n",
       "    <tr style=\"text-align: right;\">\n",
       "      <th>transmission_type</th>\n",
       "      <th>Automatic</th>\n",
       "      <th>Manual</th>\n",
       "    </tr>\n",
       "    <tr>\n",
       "      <th>fuel_type</th>\n",
       "      <th></th>\n",
       "      <th></th>\n",
       "    </tr>\n",
       "  </thead>\n",
       "  <tbody>\n",
       "    <tr>\n",
       "      <th>CNG</th>\n",
       "      <td>0</td>\n",
       "      <td>301</td>\n",
       "    </tr>\n",
       "    <tr>\n",
       "      <th>Diesel</th>\n",
       "      <td>1634</td>\n",
       "      <td>5785</td>\n",
       "    </tr>\n",
       "    <tr>\n",
       "      <th>Electric</th>\n",
       "      <td>4</td>\n",
       "      <td>0</td>\n",
       "    </tr>\n",
       "    <tr>\n",
       "      <th>LPG</th>\n",
       "      <td>0</td>\n",
       "      <td>44</td>\n",
       "    </tr>\n",
       "    <tr>\n",
       "      <th>Petrol</th>\n",
       "      <td>1548</td>\n",
       "      <td>6095</td>\n",
       "    </tr>\n",
       "  </tbody>\n",
       "</table>\n",
       "</div>"
      ],
      "text/plain": [
       "transmission_type  Automatic  Manual\n",
       "fuel_type                           \n",
       "CNG                        0     301\n",
       "Diesel                  1634    5785\n",
       "Electric                   4       0\n",
       "LPG                        0      44\n",
       "Petrol                  1548    6095"
      ]
     },
     "execution_count": 14,
     "metadata": {},
     "output_type": "execute_result"
    }
   ],
   "source": [
    "pd.crosstab(df[\"fuel_type\"], df[\"transmission_type\"])"
   ]
  },
  {
   "cell_type": "code",
   "execution_count": 15,
   "id": "684d5868-7e30-4ca8-af36-4d7d1053d182",
   "metadata": {},
   "outputs": [],
   "source": [
    "# 4. What is the relationship between vehicle age and selling price? Plot a scatter plot to visualize this relationship."
   ]
  },
  {
   "cell_type": "code",
   "execution_count": 16,
   "id": "243876e4-0cf6-440e-a87a-cbb0fee577f7",
   "metadata": {},
   "outputs": [
    {
     "data": {
      "text/plain": [
       "array([ 9,  5, 11,  6,  8,  3,  2,  4,  7, 10, 14, 12,  1, 15, 13, 16, 17,\n",
       "       18, 29, 19,  0, 21, 22, 25], dtype=int64)"
      ]
     },
     "execution_count": 16,
     "metadata": {},
     "output_type": "execute_result"
    }
   ],
   "source": [
    "df[\"vehicle_age\"].unique()"
   ]
  },
  {
   "cell_type": "code",
   "execution_count": 17,
   "id": "ce663391-3d44-4084-8f57-df95ace063f9",
   "metadata": {},
   "outputs": [],
   "source": [
    "l = df.groupby(\"vehicle_age\")[\"selling_price\"].sum()"
   ]
  },
  {
   "cell_type": "code",
   "execution_count": 18,
   "id": "dc0bcbb1-740b-4287-81c3-aa9c6d15e9ed",
   "metadata": {},
   "outputs": [
    {
     "data": {
      "text/plain": [
       "[<matplotlib.lines.Line2D at 0x2354c2e5450>]"
      ]
     },
     "execution_count": 18,
     "metadata": {},
     "output_type": "execute_result"
    },
    {
     "data": {
      "image/png": "[encoded data removed]",
      "text/plain": [
       "<Figure size 640x480 with 1 Axes>"
      ]
     },
     "metadata": {},
     "output_type": "display_data"
    }
   ],
   "source": [
    "plt.plot(l)\n"
   ]
  },
  {
   "cell_type": "code",
   "execution_count": 19,
   "id": "e8efdbd5-ceee-40eb-b6c7-12b087020113",
   "metadata": {},
   "outputs": [],
   "source": [
    "# 5. Calculate the average mileage by vehicle age group (e.g., 0-5 years, 6-10 years, 11-15 years, etc.). Is there a trend that suggests older vehicles have higher or lower mileage?"
   ]
  },
  {
   "cell_type": "code",
   "execution_count": 20,
   "id": "b5b50151-a750-41cb-91b9-4505a32a2edd",
   "metadata": {},
   "outputs": [],
   "source": [
    "bins = list(range(0, 31, 5))\n",
    "labels = ['0-5 years', '6-10 years', '11-15 years', '16-20 years', '21-25 years', '26-30 years']"
   ]
  },
  {
   "cell_type": "code",
   "execution_count": 21,
   "id": "3844277a-b3ed-449f-942b-0085cd6284ea",
   "metadata": {},
   "outputs": [],
   "source": [
    "df['age_group'] = pd.cut(df['vehicle_age'], bins=bins, labels=labels, right=False)"
   ]
  },
  {
   "cell_type": "code",
   "execution_count": 22,
   "id": "d1872bc3-01a2-4500-a332-63f503d0d11e",
   "metadata": {},
   "outputs": [
    {
     "data": {
      "text/plain": [
       "age_group\n",
       "0-5 years      113654.25\n",
       "6-10 years     154425.38\n",
       "11-15 years     32940.53\n",
       "16-20 years      2490.63\n",
       "21-25 years        69.70\n",
       "26-30 years        33.95\n",
       "Name: mileage, dtype: float64"
      ]
     },
     "execution_count": 22,
     "metadata": {},
     "output_type": "execute_result"
    }
   ],
   "source": [
    "df.groupby(\"age_group\")[\"mileage\"].sum()"
   ]
  },
  {
   "cell_type": "code",
   "execution_count": 23,
   "id": "71ba8804-a609-401c-a586-ca434ddaa963",
   "metadata": {},
   "outputs": [],
   "source": [
    "# As in above table we can see that older vehicle has lower milage, so yeah the newer vehicle has higher mileage, and we can see the trend."
   ]
  },
  {
   "cell_type": "code",
   "execution_count": 24,
   "id": "48576f92-353d-4762-9715-74ab723df105",
   "metadata": {},
   "outputs": [],
   "source": [
    "# 6. What are the top 5 car models in terms of the number of listings? How do their average selling prices compare?"
   ]
  },
  {
   "cell_type": "code",
   "execution_count": 25,
   "id": "a0d5d31b-cdbc-4a23-855c-5d7ef2cd7638",
   "metadata": {},
   "outputs": [],
   "source": [
    "l = df.groupby(\"model\")[\"model\"].count()"
   ]
  },
  {
   "cell_type": "code",
   "execution_count": 26,
   "id": "765bfeb1-4605-4cf5-8ac1-451013635c4d",
   "metadata": {},
   "outputs": [],
   "source": [
    "l = l.sort_values(ascending=False)"
   ]
  },
  {
   "cell_type": "code",
   "execution_count": 27,
   "id": "45b450d0-d5a7-4c8d-a07e-f73ecb9bdc53",
   "metadata": {},
   "outputs": [
    {
     "name": "stdout",
     "output_type": "stream",
     "text": [
      "Top 5 car models\n",
      "model\n",
      "i20            906\n",
      "Swift Dzire    890\n",
      "Swift          781\n",
      "Alto           778\n",
      "City           757\n",
      "Name: model, dtype: int64\n"
     ]
    }
   ],
   "source": [
    "print(f\"Top 5 car models\\n{l.head(5)}\")"
   ]
  },
  {
   "cell_type": "code",
   "execution_count": 28,
   "id": "1a7ccb13-1d84-4653-afcb-452c169bbe2c",
   "metadata": {},
   "outputs": [],
   "source": [
    "# 7. For each seller type, what is the average km_driven and how does it relate to the average selling price?"
   ]
  },
  {
   "cell_type": "code",
   "execution_count": 29,
   "id": "3270fb8a-c90e-4987-ae85-44e726d781fd",
   "metadata": {},
   "outputs": [
    {
     "data": {
      "text/plain": [
       "seller_type\n",
       "Dealer              53639.596603\n",
       "Individual          59662.376382\n",
       "Trustmark Dealer    31338.658960\n",
       "Name: km_driven, dtype: float64"
      ]
     },
     "execution_count": 29,
     "metadata": {},
     "output_type": "execute_result"
    }
   ],
   "source": [
    "df.groupby(\"seller_type\")[\"km_driven\"].mean()"
   ]
  },
  {
   "cell_type": "code",
   "execution_count": 30,
   "id": "934f7885-a4fa-4c10-b1a4-a04e236832bb",
   "metadata": {},
   "outputs": [
    {
     "data": {
      "text/html": [
       "<div>\n",
       "<style scoped>\n",
       "    .dataframe tbody tr th:only-of-type {\n",
       "        vertical-align: middle;\n",
       "    }\n",
       "\n",
       "    .dataframe tbody tr th {\n",
       "        vertical-align: top;\n",
       "    }\n",
       "\n",
       "    .dataframe thead th {\n",
       "        text-align: right;\n",
       "    }\n",
       "</style>\n",
       "<table border=\"1\" class=\"dataframe\">\n",
       "  <thead>\n",
       "    <tr style=\"text-align: right;\">\n",
       "      <th></th>\n",
       "      <th>km_driven</th>\n",
       "      <th>selling_price</th>\n",
       "    </tr>\n",
       "    <tr>\n",
       "      <th>seller_type</th>\n",
       "      <th></th>\n",
       "      <th></th>\n",
       "    </tr>\n",
       "  </thead>\n",
       "  <tbody>\n",
       "    <tr>\n",
       "      <th>Dealer</th>\n",
       "      <td>53639.596603</td>\n",
       "      <td>872505.503722</td>\n",
       "    </tr>\n",
       "    <tr>\n",
       "      <th>Individual</th>\n",
       "      <td>59662.376382</td>\n",
       "      <td>617880.483418</td>\n",
       "    </tr>\n",
       "    <tr>\n",
       "      <th>Trustmark Dealer</th>\n",
       "      <td>31338.658960</td>\n",
       "      <td>571959.537572</td>\n",
       "    </tr>\n",
       "  </tbody>\n",
       "</table>\n",
       "</div>"
      ],
      "text/plain": [
       "                     km_driven  selling_price\n",
       "seller_type                                  \n",
       "Dealer            53639.596603  872505.503722\n",
       "Individual        59662.376382  617880.483418\n",
       "Trustmark Dealer  31338.658960  571959.537572"
      ]
     },
     "execution_count": 30,
     "metadata": {},
     "output_type": "execute_result"
    }
   ],
   "source": [
    "s = df.groupby(\"seller_type\")[[\"km_driven\", \"selling_price\"]].mean()\n",
    "s"
   ]
  },
  {
   "cell_type": "code",
   "execution_count": 31,
   "id": "f2c8196f-5999-4e07-b066-19c85f80b513",
   "metadata": {},
   "outputs": [
    {
     "data": {
      "text/plain": [
       "[<matplotlib.lines.Line2D at 0x23548cd9310>,\n",
       " <matplotlib.lines.Line2D at 0x2354c446010>]"
      ]
     },
     "execution_count": 31,
     "metadata": {},
     "output_type": "execute_result"
    },
    {
     "data": {
      "image/png": "[encoded data removed]",
      "text/plain": [
       "<Figure size 640x480 with 1 Axes>"
      ]
     },
     "metadata": {},
     "output_type": "display_data"
    }
   ],
   "source": [
    "plt.plot(s)"
   ]
  },
  {
   "cell_type": "code",
   "execution_count": 32,
   "id": "fd6c9486-20bd-419d-b692-559b85120894",
   "metadata": {},
   "outputs": [],
   "source": [
    "# we can see in table Dealer buy more cars then individual."
   ]
  },
  {
   "cell_type": "code",
   "execution_count": 33,
   "id": "85f54624-9186-4ce4-a1da-9e6539843a0f",
   "metadata": {},
   "outputs": [],
   "source": [
    "# 8. Is there a significant difference in the average selling price of vehicles with 5 seats compared to those with more than 5 seats?"
   ]
  },
  {
   "cell_type": "code",
   "execution_count": 34,
   "id": "18cc0ceb-6dd7-42be-9f7d-76b85efc02df",
   "metadata": {},
   "outputs": [
    {
     "data": {
      "text/plain": [
       "seats\n",
       "0    6.345000e+05\n",
       "2    4.124286e+06\n",
       "4    3.974597e+06\n",
       "5    6.942537e+05\n",
       "6    6.467874e+05\n",
       "7    1.164031e+06\n",
       "8    9.293601e+05\n",
       "9    6.480000e+05\n",
       "Name: selling_price, dtype: float64"
      ]
     },
     "execution_count": 34,
     "metadata": {},
     "output_type": "execute_result"
    }
   ],
   "source": [
    "seats = df.groupby(\"seats\")[\"selling_price\"].mean()\n",
    "seats"
   ]
  },
  {
   "cell_type": "code",
   "execution_count": 35,
   "id": "24268699-cb7f-496c-ab23-66714ef9506f",
   "metadata": {},
   "outputs": [
    {
     "name": "stdout",
     "output_type": "stream",
     "text": [
      "5 seat:694253.747095275, 6 seat:646787.4015748032, 7 seat:1164031.2174817899, 8 seat:929360.1286173634, 9 seat:648000.0\n"
     ]
    }
   ],
   "source": [
    "print(f\"5 seat:{seats.loc[5]}, 6 seat:{seats.loc[6]}, 7 seat:{seats.loc[7]}, 8 seat:{seats.loc[8]}, 9 seat:{seats.loc[9]}\")"
   ]
  },
  {
   "cell_type": "code",
   "execution_count": 36,
   "id": "90d07810-9ea8-464b-9845-ed15728fee87",
   "metadata": {},
   "outputs": [],
   "source": [
    "# There is only significant differnce between 7 seats and 8 seats compared to 5 seats, in other there is not much significant differnce"
   ]
  },
  {
   "cell_type": "code",
   "execution_count": 37,
   "id": "b33d1a74-d042-40aa-adf2-614dd1bd52f5",
   "metadata": {},
   "outputs": [],
   "source": [
    "# 9. Create a new column that categorizes cars into 'Low', 'Medium', and 'High' power, based on max_power. Define the categories as follows: Low (<75 HP), Medium (75-150 HP), and High (>150 HP). What is the average selling price for each power category?"
   ]
  },
  {
   "cell_type": "code",
   "execution_count": 38,
   "id": "7c9c5c01-0412-45af-9b4f-c2efb1f6a5f5",
   "metadata": {},
   "outputs": [],
   "source": [
    "df.loc[df[\"max_power\"]<75, \"power\"] = \"Low\" \n",
    "df.loc[ (df[\"max_power\"]>75) & (df[\"max_power\"]<150) , \"power\"] = \"Medium\" \n",
    "df.loc[df[\"max_power\"]>150, \"power\"] = \"High\" "
   ]
  },
  {
   "cell_type": "code",
   "execution_count": 39,
   "id": "9637ff73-b23a-4ef8-aa9b-ce89dde86cf2",
   "metadata": {},
   "outputs": [
    {
     "data": {
      "text/html": [
       "<div>\n",
       "<style scoped>\n",
       "    .dataframe tbody tr th:only-of-type {\n",
       "        vertical-align: middle;\n",
       "    }\n",
       "\n",
       "    .dataframe tbody tr th {\n",
       "        vertical-align: top;\n",
       "    }\n",
       "\n",
       "    .dataframe thead th {\n",
       "        text-align: right;\n",
       "    }\n",
       "</style>\n",
       "<table border=\"1\" class=\"dataframe\">\n",
       "  <thead>\n",
       "    <tr style=\"text-align: right;\">\n",
       "      <th></th>\n",
       "      <th>Unnamed: 0</th>\n",
       "      <th>car_name</th>\n",
       "      <th>brand</th>\n",
       "      <th>model</th>\n",
       "      <th>vehicle_age</th>\n",
       "      <th>km_driven</th>\n",
       "      <th>seller_type</th>\n",
       "      <th>fuel_type</th>\n",
       "      <th>transmission_type</th>\n",
       "      <th>mileage</th>\n",
       "      <th>engine</th>\n",
       "      <th>max_power</th>\n",
       "      <th>seats</th>\n",
       "      <th>selling_price</th>\n",
       "      <th>age_group</th>\n",
       "      <th>power</th>\n",
       "    </tr>\n",
       "  </thead>\n",
       "  <tbody>\n",
       "    <tr>\n",
       "      <th>0</th>\n",
       "      <td>0</td>\n",
       "      <td>Maruti Alto</td>\n",
       "      <td>Maruti</td>\n",
       "      <td>Alto</td>\n",
       "      <td>9</td>\n",
       "      <td>120000</td>\n",
       "      <td>Individual</td>\n",
       "      <td>Petrol</td>\n",
       "      <td>Manual</td>\n",
       "      <td>19.70</td>\n",
       "      <td>796</td>\n",
       "      <td>46.30</td>\n",
       "      <td>5</td>\n",
       "      <td>120000</td>\n",
       "      <td>6-10 years</td>\n",
       "      <td>Low</td>\n",
       "    </tr>\n",
       "    <tr>\n",
       "      <th>1</th>\n",
       "      <td>1</td>\n",
       "      <td>Hyundai Grand</td>\n",
       "      <td>Hyundai</td>\n",
       "      <td>Grand</td>\n",
       "      <td>5</td>\n",
       "      <td>20000</td>\n",
       "      <td>Individual</td>\n",
       "      <td>Petrol</td>\n",
       "      <td>Manual</td>\n",
       "      <td>18.90</td>\n",
       "      <td>1197</td>\n",
       "      <td>82.00</td>\n",
       "      <td>5</td>\n",
       "      <td>550000</td>\n",
       "      <td>6-10 years</td>\n",
       "      <td>Medium</td>\n",
       "    </tr>\n",
       "    <tr>\n",
       "      <th>2</th>\n",
       "      <td>2</td>\n",
       "      <td>Hyundai i20</td>\n",
       "      <td>Hyundai</td>\n",
       "      <td>i20</td>\n",
       "      <td>11</td>\n",
       "      <td>60000</td>\n",
       "      <td>Individual</td>\n",
       "      <td>Petrol</td>\n",
       "      <td>Manual</td>\n",
       "      <td>17.00</td>\n",
       "      <td>1197</td>\n",
       "      <td>80.00</td>\n",
       "      <td>5</td>\n",
       "      <td>215000</td>\n",
       "      <td>11-15 years</td>\n",
       "      <td>Medium</td>\n",
       "    </tr>\n",
       "    <tr>\n",
       "      <th>3</th>\n",
       "      <td>3</td>\n",
       "      <td>Maruti Alto</td>\n",
       "      <td>Maruti</td>\n",
       "      <td>Alto</td>\n",
       "      <td>9</td>\n",
       "      <td>37000</td>\n",
       "      <td>Individual</td>\n",
       "      <td>Petrol</td>\n",
       "      <td>Manual</td>\n",
       "      <td>20.92</td>\n",
       "      <td>998</td>\n",
       "      <td>67.10</td>\n",
       "      <td>5</td>\n",
       "      <td>226000</td>\n",
       "      <td>6-10 years</td>\n",
       "      <td>Low</td>\n",
       "    </tr>\n",
       "    <tr>\n",
       "      <th>4</th>\n",
       "      <td>4</td>\n",
       "      <td>Ford Ecosport</td>\n",
       "      <td>Ford</td>\n",
       "      <td>Ecosport</td>\n",
       "      <td>6</td>\n",
       "      <td>30000</td>\n",
       "      <td>Dealer</td>\n",
       "      <td>Diesel</td>\n",
       "      <td>Manual</td>\n",
       "      <td>22.77</td>\n",
       "      <td>1498</td>\n",
       "      <td>98.59</td>\n",
       "      <td>5</td>\n",
       "      <td>570000</td>\n",
       "      <td>6-10 years</td>\n",
       "      <td>Medium</td>\n",
       "    </tr>\n",
       "    <tr>\n",
       "      <th>...</th>\n",
       "      <td>...</td>\n",
       "      <td>...</td>\n",
       "      <td>...</td>\n",
       "      <td>...</td>\n",
       "      <td>...</td>\n",
       "      <td>...</td>\n",
       "      <td>...</td>\n",
       "      <td>...</td>\n",
       "      <td>...</td>\n",
       "      <td>...</td>\n",
       "      <td>...</td>\n",
       "      <td>...</td>\n",
       "      <td>...</td>\n",
       "      <td>...</td>\n",
       "      <td>...</td>\n",
       "      <td>...</td>\n",
       "    </tr>\n",
       "    <tr>\n",
       "      <th>15406</th>\n",
       "      <td>19537</td>\n",
       "      <td>Hyundai i10</td>\n",
       "      <td>Hyundai</td>\n",
       "      <td>i10</td>\n",
       "      <td>9</td>\n",
       "      <td>10723</td>\n",
       "      <td>Dealer</td>\n",
       "      <td>Petrol</td>\n",
       "      <td>Manual</td>\n",
       "      <td>19.81</td>\n",
       "      <td>1086</td>\n",
       "      <td>68.05</td>\n",
       "      <td>5</td>\n",
       "      <td>250000</td>\n",
       "      <td>6-10 years</td>\n",
       "      <td>Low</td>\n",
       "    </tr>\n",
       "    <tr>\n",
       "      <th>15407</th>\n",
       "      <td>19540</td>\n",
       "      <td>Maruti Ertiga</td>\n",
       "      <td>Maruti</td>\n",
       "      <td>Ertiga</td>\n",
       "      <td>2</td>\n",
       "      <td>18000</td>\n",
       "      <td>Dealer</td>\n",
       "      <td>Petrol</td>\n",
       "      <td>Manual</td>\n",
       "      <td>17.50</td>\n",
       "      <td>1373</td>\n",
       "      <td>91.10</td>\n",
       "      <td>7</td>\n",
       "      <td>925000</td>\n",
       "      <td>0-5 years</td>\n",
       "      <td>Medium</td>\n",
       "    </tr>\n",
       "    <tr>\n",
       "      <th>15408</th>\n",
       "      <td>19541</td>\n",
       "      <td>Skoda Rapid</td>\n",
       "      <td>Skoda</td>\n",
       "      <td>Rapid</td>\n",
       "      <td>6</td>\n",
       "      <td>67000</td>\n",
       "      <td>Dealer</td>\n",
       "      <td>Diesel</td>\n",
       "      <td>Manual</td>\n",
       "      <td>21.14</td>\n",
       "      <td>1498</td>\n",
       "      <td>103.52</td>\n",
       "      <td>5</td>\n",
       "      <td>425000</td>\n",
       "      <td>6-10 years</td>\n",
       "      <td>Medium</td>\n",
       "    </tr>\n",
       "    <tr>\n",
       "      <th>15409</th>\n",
       "      <td>19542</td>\n",
       "      <td>Mahindra XUV500</td>\n",
       "      <td>Mahindra</td>\n",
       "      <td>XUV500</td>\n",
       "      <td>5</td>\n",
       "      <td>3800000</td>\n",
       "      <td>Dealer</td>\n",
       "      <td>Diesel</td>\n",
       "      <td>Manual</td>\n",
       "      <td>16.00</td>\n",
       "      <td>2179</td>\n",
       "      <td>140.00</td>\n",
       "      <td>7</td>\n",
       "      <td>1225000</td>\n",
       "      <td>6-10 years</td>\n",
       "      <td>Medium</td>\n",
       "    </tr>\n",
       "    <tr>\n",
       "      <th>15410</th>\n",
       "      <td>19543</td>\n",
       "      <td>Honda City</td>\n",
       "      <td>Honda</td>\n",
       "      <td>City</td>\n",
       "      <td>2</td>\n",
       "      <td>13000</td>\n",
       "      <td>Dealer</td>\n",
       "      <td>Petrol</td>\n",
       "      <td>Automatic</td>\n",
       "      <td>18.00</td>\n",
       "      <td>1497</td>\n",
       "      <td>117.60</td>\n",
       "      <td>5</td>\n",
       "      <td>1200000</td>\n",
       "      <td>0-5 years</td>\n",
       "      <td>Medium</td>\n",
       "    </tr>\n",
       "  </tbody>\n",
       "</table>\n",
       "<p>15411 rows × 16 columns</p>\n",
       "</div>"
      ],
      "text/plain": [
       "       Unnamed: 0         car_name     brand     model  vehicle_age  \\\n",
       "0               0      Maruti Alto    Maruti      Alto            9   \n",
       "1               1    Hyundai Grand   Hyundai     Grand            5   \n",
       "2               2      Hyundai i20   Hyundai       i20           11   \n",
       "3               3      Maruti Alto    Maruti      Alto            9   \n",
       "4               4    Ford Ecosport      Ford  Ecosport            6   \n",
       "...           ...              ...       ...       ...          ...   \n",
       "15406       19537      Hyundai i10   Hyundai       i10            9   \n",
       "15407       19540    Maruti Ertiga    Maruti    Ertiga            2   \n",
       "15408       19541      Skoda Rapid     Skoda     Rapid            6   \n",
       "15409       19542  Mahindra XUV500  Mahindra    XUV500            5   \n",
       "15410       19543       Honda City     Honda      City            2   \n",
       "\n",
       "       km_driven seller_type fuel_type transmission_type  mileage  engine  \\\n",
       "0         120000  Individual    Petrol            Manual    19.70     796   \n",
       "1          20000  Individual    Petrol            Manual    18.90    1197   \n",
       "2          60000  Individual    Petrol            Manual    17.00    1197   \n",
       "3          37000  Individual    Petrol            Manual    20.92     998   \n",
       "4          30000      Dealer    Diesel            Manual    22.77    1498   \n",
       "...          ...         ...       ...               ...      ...     ...   \n",
       "15406      10723      Dealer    Petrol            Manual    19.81    1086   \n",
       "15407      18000      Dealer    Petrol            Manual    17.50    1373   \n",
       "15408      67000      Dealer    Diesel            Manual    21.14    1498   \n",
       "15409    3800000      Dealer    Diesel            Manual    16.00    2179   \n",
       "15410      13000      Dealer    Petrol         Automatic    18.00    1497   \n",
       "\n",
       "       max_power  seats  selling_price    age_group   power  \n",
       "0          46.30      5         120000   6-10 years     Low  \n",
       "1          82.00      5         550000   6-10 years  Medium  \n",
       "2          80.00      5         215000  11-15 years  Medium  \n",
       "3          67.10      5         226000   6-10 years     Low  \n",
       "4          98.59      5         570000   6-10 years  Medium  \n",
       "...          ...    ...            ...          ...     ...  \n",
       "15406      68.05      5         250000   6-10 years     Low  \n",
       "15407      91.10      7         925000    0-5 years  Medium  \n",
       "15408     103.52      5         425000   6-10 years  Medium  \n",
       "15409     140.00      7        1225000   6-10 years  Medium  \n",
       "15410     117.60      5        1200000    0-5 years  Medium  \n",
       "\n",
       "[15411 rows x 16 columns]"
      ]
     },
     "execution_count": 39,
     "metadata": {},
     "output_type": "execute_result"
    }
   ],
   "source": [
    "df"
   ]
  },
  {
   "cell_type": "code",
   "execution_count": 40,
   "id": "32baa4fd-2a16-4c68-abfc-9edd8c068baa",
   "metadata": {},
   "outputs": [
    {
     "data": {
      "text/plain": [
       "power\n",
       "High      2.382223e+06\n",
       "Low       3.761855e+05\n",
       "Medium    6.733334e+05\n",
       "Name: selling_price, dtype: float64"
      ]
     },
     "execution_count": 40,
     "metadata": {},
     "output_type": "execute_result"
    }
   ],
   "source": [
    "df.groupby(\"power\")[\"selling_price\"].mean()"
   ]
  },
  {
   "cell_type": "code",
   "execution_count": 41,
   "id": "3876cd78-e01d-4ea1-af7b-0bcf73df373d",
   "metadata": {},
   "outputs": [],
   "source": [
    "# 10. What is the correlation between engine size and max power? Also, visualize this relationship using an appropriate plot."
   ]
  },
  {
   "cell_type": "code",
   "execution_count": 59,
   "id": "70bc74a1-335b-4430-8297-396a5a4bb368",
   "metadata": {},
   "outputs": [],
   "source": [
    "l = df[[\"engine\", \"max_power\"]]"
   ]
  },
  {
   "cell_type": "code",
   "execution_count": 60,
   "id": "55c8c28b-35b9-45f4-8eff-73e96f503ecc",
   "metadata": {},
   "outputs": [
    {
     "data": {
      "text/plain": [
       "[<matplotlib.lines.Line2D at 0x23550e245d0>]"
      ]
     },
     "execution_count": 60,
     "metadata": {},
     "output_type": "execute_result"
    },
    {
     "data": {
      "image/png": "[encoded data removed]",
      "text/plain": [
       "<Figure size 640x480 with 1 Axes>"
      ]
     },
     "metadata": {},
     "output_type": "display_data"
    }
   ],
   "source": [
    "plt.plot(df[\"engine\"], df[\"max_power\"])"
   ]
  },
  {
   "cell_type": "code",
   "execution_count": 66,
   "id": "3a8342bd-5327-46e0-98e6-14a7bc722059",
   "metadata": {},
   "outputs": [
    {
     "data": {
      "text/plain": [
       "<Axes: xlabel='engine', ylabel='max_power'>"
      ]
     },
     "execution_count": 66,
     "metadata": {},
     "output_type": "execute_result"
    },
    {
     "data": {
      "image/png": "[encoded data removed]",
      "text/plain": [
       "<Figure size 640x480 with 1 Axes>"
      ]
     },
     "metadata": {},
     "output_type": "display_data"
    }
   ],
   "source": [
    "l.plot(x = \"engine\", y = \"max_power\", kind=\"scatter\")"
   ]
  },
  {
   "cell_type": "code",
   "execution_count": null,
   "id": "9399e67b-d2c9-4e49-9de6-cbb7f96fdfc1",
   "metadata": {},
   "outputs": [],
   "source": []
  },
  {
   "cell_type": "code",
   "execution_count": null,
   "id": "2a72fae3-10eb-40c2-8eaf-c6ff4f3182a4",
   "metadata": {},
   "outputs": [],
   "source": []
  }
 ],
 "metadata": {
  "kernelspec": {
   "display_name": "Python 3 (ipykernel)",
   "language": "python",
   "name": "python3"
  },
  "language_info": {
   "codemirror_mode": {
    "name": "ipython",
    "version": 3
   },
   "file_extension": ".py",
   "mimetype": "text/x-python",
   "name": "python",
   "nbconvert_exporter": "python",
   "pygments_lexer": "ipython3",
   "version": "3.11.5"
  }
 },
 "nbformat": 4,
 "nbformat_minor": 5
}
