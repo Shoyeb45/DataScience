{
 "cells": [
  {
   "cell_type": "code",
   "execution_count": 9,
   "id": "d0a18fff-9ff6-4fa7-9b76-7e9420da0b9f",
   "metadata": {},
   "outputs": [],
   "source": [
    "import pandas as pd\n",
    "\n",
    "df1 =  pd.DataFrame({\n",
    "    'UserID': [1, 2, 3],\n",
    "    'UserName': ['Alice', 'Bob', 'Charlie']\n",
    "})\n",
    "\n",
    "df2 = pd.DataFrame({\n",
    "    'UserID': [2, 3, 1],\n",
    "    'Email': ['bob@example.com', 'charlie@example.com', 'alice@example.com']\n",
    "})"
   ]
  },
  {
   "cell_type": "code",
   "execution_count": null,
   "id": "1a3f283c-a216-4bce-a11a-22f74a83fb9b",
   "metadata": {},
   "outputs": [],
   "source": [
    "# One To One"
   ]
  },
  {
   "cell_type": "code",
   "execution_count": 10,
   "id": "d2a05b1a-6fcf-4d3f-8005-0b99b8ee9b00",
   "metadata": {},
   "outputs": [],
   "source": [
    "OneToOne = pd.merge(df1, df2)"
   ]
  },
  {
   "cell_type": "code",
   "execution_count": 12,
   "id": "fa725586-ee48-43a4-a2e8-98e83183e79e",
   "metadata": {},
   "outputs": [
    {
     "data": {
      "text/html": [
       "<div>\n",
       "<style scoped>\n",
       "    .dataframe tbody tr th:only-of-type {\n",
       "        vertical-align: middle;\n",
       "    }\n",
       "\n",
       "    .dataframe tbody tr th {\n",
       "        vertical-align: top;\n",
       "    }\n",
       "\n",
       "    .dataframe thead th {\n",
       "        text-align: right;\n",
       "    }\n",
       "</style>\n",
       "<table border=\"1\" class=\"dataframe\">\n",
       "  <thead>\n",
       "    <tr style=\"text-align: right;\">\n",
       "      <th></th>\n",
       "      <th>UserID</th>\n",
       "      <th>UserName</th>\n",
       "      <th>Email</th>\n",
       "    </tr>\n",
       "  </thead>\n",
       "  <tbody>\n",
       "    <tr>\n",
       "      <th>0</th>\n",
       "      <td>1</td>\n",
       "      <td>Alice</td>\n",
       "      <td>alice@example.com</td>\n",
       "    </tr>\n",
       "    <tr>\n",
       "      <th>1</th>\n",
       "      <td>2</td>\n",
       "      <td>Bob</td>\n",
       "      <td>bob@example.com</td>\n",
       "    </tr>\n",
       "    <tr>\n",
       "      <th>2</th>\n",
       "      <td>3</td>\n",
       "      <td>Charlie</td>\n",
       "      <td>charlie@example.com</td>\n",
       "    </tr>\n",
       "  </tbody>\n",
       "</table>\n",
       "</div>"
      ],
      "text/plain": [
       "   UserID UserName                Email\n",
       "0       1    Alice    alice@example.com\n",
       "1       2      Bob      bob@example.com\n",
       "2       3  Charlie  charlie@example.com"
      ]
     },
     "execution_count": 12,
     "metadata": {},
     "output_type": "execute_result"
    }
   ],
   "source": [
    "OneToOne"
   ]
  },
  {
   "cell_type": "code",
   "execution_count": 13,
   "id": "3cc2d373-4cad-4a62-824b-c915093f3da2",
   "metadata": {},
   "outputs": [],
   "source": [
    "# Many to one"
   ]
  },
  {
   "cell_type": "code",
   "execution_count": 15,
   "id": "6aca86b1-d009-4f77-9048-f959ca84d5b0",
   "metadata": {},
   "outputs": [],
   "source": [
    "orders =  pd.DataFrame({\n",
    "    'OrderID': [101, 102, 103, 104],\n",
    "    'UserID': [1, 2, 1, 3],  # Note the duplicate UserID values\n",
    "    'OrderDetail': ['Book', 'Laptop', 'Pen', 'Notebook']\n",
    "})\n",
    "\n",
    "users =  pd.DataFrame({\n",
    "    'UserID': [1, 2, 3],\n",
    "    'UserName': ['Alice', 'Bob', 'Charlie']\n",
    "})\n",
    "\n",
    "manyToOne = pd.merge(orders, users)"
   ]
  },
  {
   "cell_type": "code",
   "execution_count": 17,
   "id": "2522b917-42fa-4461-a78a-4be2010bbfb4",
   "metadata": {},
   "outputs": [
    {
     "data": {
      "text/html": [
       "<div>\n",
       "<style scoped>\n",
       "    .dataframe tbody tr th:only-of-type {\n",
       "        vertical-align: middle;\n",
       "    }\n",
       "\n",
       "    .dataframe tbody tr th {\n",
       "        vertical-align: top;\n",
       "    }\n",
       "\n",
       "    .dataframe thead th {\n",
       "        text-align: right;\n",
       "    }\n",
       "</style>\n",
       "<table border=\"1\" class=\"dataframe\">\n",
       "  <thead>\n",
       "    <tr style=\"text-align: right;\">\n",
       "      <th></th>\n",
       "      <th>OrderID</th>\n",
       "      <th>UserID</th>\n",
       "      <th>OrderDetail</th>\n",
       "      <th>UserName</th>\n",
       "    </tr>\n",
       "  </thead>\n",
       "  <tbody>\n",
       "    <tr>\n",
       "      <th>0</th>\n",
       "      <td>101</td>\n",
       "      <td>1</td>\n",
       "      <td>Book</td>\n",
       "      <td>Alice</td>\n",
       "    </tr>\n",
       "    <tr>\n",
       "      <th>1</th>\n",
       "      <td>103</td>\n",
       "      <td>1</td>\n",
       "      <td>Pen</td>\n",
       "      <td>Alice</td>\n",
       "    </tr>\n",
       "    <tr>\n",
       "      <th>2</th>\n",
       "      <td>102</td>\n",
       "      <td>2</td>\n",
       "      <td>Laptop</td>\n",
       "      <td>Bob</td>\n",
       "    </tr>\n",
       "    <tr>\n",
       "      <th>3</th>\n",
       "      <td>104</td>\n",
       "      <td>3</td>\n",
       "      <td>Notebook</td>\n",
       "      <td>Charlie</td>\n",
       "    </tr>\n",
       "  </tbody>\n",
       "</table>\n",
       "</div>"
      ],
      "text/plain": [
       "   OrderID  UserID OrderDetail UserName\n",
       "0      101       1        Book    Alice\n",
       "1      103       1         Pen    Alice\n",
       "2      102       2      Laptop      Bob\n",
       "3      104       3    Notebook  Charlie"
      ]
     },
     "execution_count": 17,
     "metadata": {},
     "output_type": "execute_result"
    }
   ],
   "source": [
    "manyToOne"
   ]
  },
  {
   "cell_type": "code",
   "execution_count": 18,
   "id": "a585d6c5-cb27-44d8-994c-66b5aafdc78b",
   "metadata": {},
   "outputs": [],
   "source": [
    "# Many to many"
   ]
  },
  {
   "cell_type": "code",
   "execution_count": 24,
   "id": "07ed0d7c-7c7e-4722-bf6f-c9b62a0ad5d0",
   "metadata": {},
   "outputs": [],
   "source": [
    "userDf = pd.DataFrame({\n",
    "    'UserID': [1, 2, 1, 3, 2],\n",
    "    'ProjectID': ['A', 'A', 'B', 'B', 'C']  # Note: Projects A and B involve multiple users\n",
    "})\n",
    "\n",
    "projectDf = pd.DataFrame({\n",
    "    'ProjectID': ['A', 'A', 'B', 'C', 'C'],\n",
    "    'Detail': ['Phase 1', 'Phase 2', 'Initial', 'Planning', 'Execution']  # Note: Projects A and C have multiple phases/details\n",
    "})\n",
    "\n",
    "ManyToMany = pd.merge(userDf, projectDf, on = 'ProjectID', how = \"inner\")"
   ]
  },
  {
   "cell_type": "code",
   "execution_count": 26,
   "id": "d4defabe-f2c0-46ec-9d83-471c442162fd",
   "metadata": {},
   "outputs": [
    {
     "data": {
      "text/html": [
       "<div>\n",
       "<style scoped>\n",
       "    .dataframe tbody tr th:only-of-type {\n",
       "        vertical-align: middle;\n",
       "    }\n",
       "\n",
       "    .dataframe tbody tr th {\n",
       "        vertical-align: top;\n",
       "    }\n",
       "\n",
       "    .dataframe thead th {\n",
       "        text-align: right;\n",
       "    }\n",
       "</style>\n",
       "<table border=\"1\" class=\"dataframe\">\n",
       "  <thead>\n",
       "    <tr style=\"text-align: right;\">\n",
       "      <th></th>\n",
       "      <th>UserID</th>\n",
       "      <th>ProjectID</th>\n",
       "      <th>Detail</th>\n",
       "    </tr>\n",
       "  </thead>\n",
       "  <tbody>\n",
       "    <tr>\n",
       "      <th>0</th>\n",
       "      <td>1</td>\n",
       "      <td>A</td>\n",
       "      <td>Phase 1</td>\n",
       "    </tr>\n",
       "    <tr>\n",
       "      <th>1</th>\n",
       "      <td>1</td>\n",
       "      <td>A</td>\n",
       "      <td>Phase 2</td>\n",
       "    </tr>\n",
       "    <tr>\n",
       "      <th>2</th>\n",
       "      <td>2</td>\n",
       "      <td>A</td>\n",
       "      <td>Phase 1</td>\n",
       "    </tr>\n",
       "    <tr>\n",
       "      <th>3</th>\n",
       "      <td>2</td>\n",
       "      <td>A</td>\n",
       "      <td>Phase 2</td>\n",
       "    </tr>\n",
       "    <tr>\n",
       "      <th>4</th>\n",
       "      <td>1</td>\n",
       "      <td>B</td>\n",
       "      <td>Initial</td>\n",
       "    </tr>\n",
       "    <tr>\n",
       "      <th>5</th>\n",
       "      <td>3</td>\n",
       "      <td>B</td>\n",
       "      <td>Initial</td>\n",
       "    </tr>\n",
       "    <tr>\n",
       "      <th>6</th>\n",
       "      <td>2</td>\n",
       "      <td>C</td>\n",
       "      <td>Planning</td>\n",
       "    </tr>\n",
       "    <tr>\n",
       "      <th>7</th>\n",
       "      <td>2</td>\n",
       "      <td>C</td>\n",
       "      <td>Execution</td>\n",
       "    </tr>\n",
       "  </tbody>\n",
       "</table>\n",
       "</div>"
      ],
      "text/plain": [
       "   UserID ProjectID     Detail\n",
       "0       1         A    Phase 1\n",
       "1       1         A    Phase 2\n",
       "2       2         A    Phase 1\n",
       "3       2         A    Phase 2\n",
       "4       1         B    Initial\n",
       "5       3         B    Initial\n",
       "6       2         C   Planning\n",
       "7       2         C  Execution"
      ]
     },
     "execution_count": 26,
     "metadata": {},
     "output_type": "execute_result"
    }
   ],
   "source": [
    "ManyToMany"
   ]
  },
  {
   "cell_type": "code",
   "execution_count": 27,
   "id": "e0c5b963-5390-4ea5-b2f7-76777477ad3b",
   "metadata": {},
   "outputs": [],
   "source": [
    "# on keyword"
   ]
  },
  {
   "cell_type": "code",
   "execution_count": 30,
   "id": "e245f3c9-5c2e-4e0b-a570-aaa8400a509b",
   "metadata": {},
   "outputs": [],
   "source": [
    "userName = pd.DataFrame({\n",
    "    'UserID': [1, 2, 3],\n",
    "    'UserName': ['Alice', 'Bob', 'Charlie']\n",
    "})\n",
    "\n",
    "# Sample DataFrame 2: Emails\n",
    "emailName = pd.DataFrame({\n",
    "    'UserID': [2, 3, 1],\n",
    "    'Email': ['bob@example.com', 'charlie@example.com', 'alice@example.com']\n",
    "})\n",
    "\n",
    "x = pd.merge(userName, emailName, on = 'UserID')"
   ]
  },
  {
   "cell_type": "code",
   "execution_count": 32,
   "id": "c554719b-3d91-4f32-b965-ec87d7c7e82a",
   "metadata": {},
   "outputs": [
    {
     "data": {
      "text/html": [
       "<div>\n",
       "<style scoped>\n",
       "    .dataframe tbody tr th:only-of-type {\n",
       "        vertical-align: middle;\n",
       "    }\n",
       "\n",
       "    .dataframe tbody tr th {\n",
       "        vertical-align: top;\n",
       "    }\n",
       "\n",
       "    .dataframe thead th {\n",
       "        text-align: right;\n",
       "    }\n",
       "</style>\n",
       "<table border=\"1\" class=\"dataframe\">\n",
       "  <thead>\n",
       "    <tr style=\"text-align: right;\">\n",
       "      <th></th>\n",
       "      <th>UserID</th>\n",
       "      <th>UserName</th>\n",
       "      <th>Email</th>\n",
       "    </tr>\n",
       "  </thead>\n",
       "  <tbody>\n",
       "    <tr>\n",
       "      <th>0</th>\n",
       "      <td>1</td>\n",
       "      <td>Alice</td>\n",
       "      <td>alice@example.com</td>\n",
       "    </tr>\n",
       "    <tr>\n",
       "      <th>1</th>\n",
       "      <td>2</td>\n",
       "      <td>Bob</td>\n",
       "      <td>bob@example.com</td>\n",
       "    </tr>\n",
       "    <tr>\n",
       "      <th>2</th>\n",
       "      <td>3</td>\n",
       "      <td>Charlie</td>\n",
       "      <td>charlie@example.com</td>\n",
       "    </tr>\n",
       "  </tbody>\n",
       "</table>\n",
       "</div>"
      ],
      "text/plain": [
       "   UserID UserName                Email\n",
       "0       1    Alice    alice@example.com\n",
       "1       2      Bob      bob@example.com\n",
       "2       3  Charlie  charlie@example.com"
      ]
     },
     "execution_count": 32,
     "metadata": {},
     "output_type": "execute_result"
    }
   ],
   "source": [
    "x"
   ]
  },
  {
   "cell_type": "code",
   "execution_count": 3,
   "id": "0f81c2a0-b859-4b14-a9ef-ec635e4b5fe3",
   "metadata": {},
   "outputs": [
    {
     "name": "stdout",
     "output_type": "stream",
     "text": [
      "   EmpID     Name  EmployeeRef  Salary\n",
      "0    102      Bob          102   70000\n",
      "1    103  Charlie          103   80000\n"
     ]
    }
   ],
   "source": [
    "# The left_on and right_on Keywords\n",
    "import pandas as pd\n",
    "employeDf = pd.DataFrame({\n",
    "    'EmpID': [101, 102, 103],\n",
    "    'Name': ['Alice', 'Bob', 'Charlie']\n",
    "})\n",
    "\n",
    "# Sample DataFrame 2: Salaries\n",
    "salaryDf = pd.DataFrame({\n",
    "    'EmployeeRef': [102, 103, 104],\n",
    "    'Salary': [70000, 80000, 90000]\n",
    "})\n",
    "\n",
    "join = pd.merge( employeDf, salaryDf, left_on = \"EmpID\", right_on = \"EmployeeRef\" )\n",
    "\n",
    "print(join)"
   ]
  },
  {
   "cell_type": "code",
   "execution_count": null,
   "id": "51fa4885-bd84-48bf-bd3e-6aed2edef79f",
   "metadata": {},
   "outputs": [],
   "source": []
  },
  {
   "cell_type": "code",
   "execution_count": 9,
   "id": "15233382-d9ca-4cd3-acc9-5824024cbd62",
   "metadata": {},
   "outputs": [
    {
     "name": "stdout",
     "output_type": "stream",
     "text": [
      "        Name  Salary\n",
      "103  Charlie   70000\n",
      "104    David   80000\n"
     ]
    }
   ],
   "source": [
    "# The left_index and right_index keywords\n",
    "employeeNamesDf = pd.DataFrame({\n",
    "    'Name': ['Alice', 'Bob', 'Charlie', 'David']\n",
    "}, index=[101, 102, 103, 104])  # Employee IDs as index\n",
    "\n",
    "employeeSalariesDf = pd.DataFrame({\n",
    "    'Salary': [70000, 80000, 90000, 60000]\n",
    "}, index=[103, 104, 105, 106])  # Employee IDs as index\n",
    "\n",
    "y = pd.merge(employeeNamesDf, employeeSalariesDf, left_index = True, right_index= True)\n",
    "print(y)\n"
   ]
  },
  {
   "cell_type": "code",
   "execution_count": 3,
   "id": "815525f5-f9bd-467a-a760-2e364a7c0ac9",
   "metadata": {},
   "outputs": [],
   "source": [
    "import pandas as pd\n",
    "# How Keyword\n",
    "\n",
    "emp = pd.DataFrame({\n",
    "    'EmployeeID': [101, 102, 103, 104],\n",
    "    'EmployeeName': ['Alice', 'Bob', 'Charlie', 'David']\n",
    "})\n",
    "\n",
    "deprt =  pd.DataFrame({\n",
    "    'EmployeeID': [101, 103, 104, 105],\n",
    "    'Department': ['HR', 'IT', 'Finance', 'Marketing']\n",
    "})\n"
   ]
  },
  {
   "cell_type": "code",
   "execution_count": 5,
   "id": "2720febe-b789-4aea-933b-c9008e0a7041",
   "metadata": {},
   "outputs": [
    {
     "data": {
      "text/html": [
       "<div>\n",
       "<style scoped>\n",
       "    .dataframe tbody tr th:only-of-type {\n",
       "        vertical-align: middle;\n",
       "    }\n",
       "\n",
       "    .dataframe tbody tr th {\n",
       "        vertical-align: top;\n",
       "    }\n",
       "\n",
       "    .dataframe thead th {\n",
       "        text-align: right;\n",
       "    }\n",
       "</style>\n",
       "<table border=\"1\" class=\"dataframe\">\n",
       "  <thead>\n",
       "    <tr style=\"text-align: right;\">\n",
       "      <th></th>\n",
       "      <th>EmployeeID</th>\n",
       "      <th>EmployeeName</th>\n",
       "      <th>Department</th>\n",
       "    </tr>\n",
       "  </thead>\n",
       "  <tbody>\n",
       "    <tr>\n",
       "      <th>0</th>\n",
       "      <td>101</td>\n",
       "      <td>Alice</td>\n",
       "      <td>HR</td>\n",
       "    </tr>\n",
       "    <tr>\n",
       "      <th>1</th>\n",
       "      <td>102</td>\n",
       "      <td>Bob</td>\n",
       "      <td>NaN</td>\n",
       "    </tr>\n",
       "    <tr>\n",
       "      <th>2</th>\n",
       "      <td>103</td>\n",
       "      <td>Charlie</td>\n",
       "      <td>IT</td>\n",
       "    </tr>\n",
       "    <tr>\n",
       "      <th>3</th>\n",
       "      <td>104</td>\n",
       "      <td>David</td>\n",
       "      <td>Finance</td>\n",
       "    </tr>\n",
       "  </tbody>\n",
       "</table>\n",
       "</div>"
      ],
      "text/plain": [
       "   EmployeeID EmployeeName Department\n",
       "0         101        Alice         HR\n",
       "1         102          Bob        NaN\n",
       "2         103      Charlie         IT\n",
       "3         104        David    Finance"
      ]
     },
     "execution_count": 5,
     "metadata": {},
     "output_type": "execute_result"
    }
   ],
   "source": [
    "pd.merge(emp, deprt, on = \"EmployeeID\", how = \"left\" )"
   ]
  },
  {
   "cell_type": "code",
   "execution_count": 6,
   "id": "5a979dcc-efa3-456c-a854-21156574053e",
   "metadata": {},
   "outputs": [
    {
     "data": {
      "text/html": [
       "<div>\n",
       "<style scoped>\n",
       "    .dataframe tbody tr th:only-of-type {\n",
       "        vertical-align: middle;\n",
       "    }\n",
       "\n",
       "    .dataframe tbody tr th {\n",
       "        vertical-align: top;\n",
       "    }\n",
       "\n",
       "    .dataframe thead th {\n",
       "        text-align: right;\n",
       "    }\n",
       "</style>\n",
       "<table border=\"1\" class=\"dataframe\">\n",
       "  <thead>\n",
       "    <tr style=\"text-align: right;\">\n",
       "      <th></th>\n",
       "      <th>EmployeeID</th>\n",
       "      <th>EmployeeName</th>\n",
       "      <th>Department</th>\n",
       "    </tr>\n",
       "  </thead>\n",
       "  <tbody>\n",
       "    <tr>\n",
       "      <th>0</th>\n",
       "      <td>101</td>\n",
       "      <td>Alice</td>\n",
       "      <td>HR</td>\n",
       "    </tr>\n",
       "    <tr>\n",
       "      <th>1</th>\n",
       "      <td>103</td>\n",
       "      <td>Charlie</td>\n",
       "      <td>IT</td>\n",
       "    </tr>\n",
       "    <tr>\n",
       "      <th>2</th>\n",
       "      <td>104</td>\n",
       "      <td>David</td>\n",
       "      <td>Finance</td>\n",
       "    </tr>\n",
       "    <tr>\n",
       "      <th>3</th>\n",
       "      <td>105</td>\n",
       "      <td>NaN</td>\n",
       "      <td>Marketing</td>\n",
       "    </tr>\n",
       "  </tbody>\n",
       "</table>\n",
       "</div>"
      ],
      "text/plain": [
       "   EmployeeID EmployeeName Department\n",
       "0         101        Alice         HR\n",
       "1         103      Charlie         IT\n",
       "2         104        David    Finance\n",
       "3         105          NaN  Marketing"
      ]
     },
     "execution_count": 6,
     "metadata": {},
     "output_type": "execute_result"
    }
   ],
   "source": [
    "pd.merge(emp, deprt, on = \"EmployeeID\", how = \"right\" )"
   ]
  },
  {
   "cell_type": "code",
   "execution_count": 7,
   "id": "01b42af6-433d-4e89-a48d-cc690be3f5df",
   "metadata": {},
   "outputs": [
    {
     "data": {
      "text/html": [
       "<div>\n",
       "<style scoped>\n",
       "    .dataframe tbody tr th:only-of-type {\n",
       "        vertical-align: middle;\n",
       "    }\n",
       "\n",
       "    .dataframe tbody tr th {\n",
       "        vertical-align: top;\n",
       "    }\n",
       "\n",
       "    .dataframe thead th {\n",
       "        text-align: right;\n",
       "    }\n",
       "</style>\n",
       "<table border=\"1\" class=\"dataframe\">\n",
       "  <thead>\n",
       "    <tr style=\"text-align: right;\">\n",
       "      <th></th>\n",
       "      <th>EmployeeID</th>\n",
       "      <th>EmployeeName</th>\n",
       "      <th>Department</th>\n",
       "    </tr>\n",
       "  </thead>\n",
       "  <tbody>\n",
       "    <tr>\n",
       "      <th>0</th>\n",
       "      <td>101</td>\n",
       "      <td>Alice</td>\n",
       "      <td>HR</td>\n",
       "    </tr>\n",
       "    <tr>\n",
       "      <th>1</th>\n",
       "      <td>103</td>\n",
       "      <td>Charlie</td>\n",
       "      <td>IT</td>\n",
       "    </tr>\n",
       "    <tr>\n",
       "      <th>2</th>\n",
       "      <td>104</td>\n",
       "      <td>David</td>\n",
       "      <td>Finance</td>\n",
       "    </tr>\n",
       "  </tbody>\n",
       "</table>\n",
       "</div>"
      ],
      "text/plain": [
       "   EmployeeID EmployeeName Department\n",
       "0         101        Alice         HR\n",
       "1         103      Charlie         IT\n",
       "2         104        David    Finance"
      ]
     },
     "execution_count": 7,
     "metadata": {},
     "output_type": "execute_result"
    }
   ],
   "source": [
    "pd.merge(emp, deprt, on = \"EmployeeID\" )"
   ]
  },
  {
   "cell_type": "code",
   "execution_count": 10,
   "id": "03ed66e0-27ad-4318-9299-f7709d84ef22",
   "metadata": {},
   "outputs": [],
   "source": [
    "# Ex. 2\n",
    "stud = pd.DataFrame({\n",
    "    'Roll No': [1, 2, 3, 4],\n",
    "    'Student Name': ['Ravi', 'Shoyeb', 'Durgesh', 'Yash']\n",
    "})\n",
    "\n",
    "# Sample DataFrame 2: Departments\n",
    "course = pd.DataFrame({\n",
    "    'Roll No': [2, 3],\n",
    "    'Course': ['Data Science', 'Calculus']\n",
    "})"
   ]
  },
  {
   "cell_type": "code",
   "execution_count": 12,
   "id": "f1d5b0cc-e0d5-4cad-943d-2cc08237e93d",
   "metadata": {},
   "outputs": [
    {
     "data": {
      "text/html": [
       "<div>\n",
       "<style scoped>\n",
       "    .dataframe tbody tr th:only-of-type {\n",
       "        vertical-align: middle;\n",
       "    }\n",
       "\n",
       "    .dataframe tbody tr th {\n",
       "        vertical-align: top;\n",
       "    }\n",
       "\n",
       "    .dataframe thead th {\n",
       "        text-align: right;\n",
       "    }\n",
       "</style>\n",
       "<table border=\"1\" class=\"dataframe\">\n",
       "  <thead>\n",
       "    <tr style=\"text-align: right;\">\n",
       "      <th></th>\n",
       "      <th>Roll No</th>\n",
       "      <th>Student Name</th>\n",
       "      <th>Course</th>\n",
       "    </tr>\n",
       "  </thead>\n",
       "  <tbody>\n",
       "    <tr>\n",
       "      <th>0</th>\n",
       "      <td>2</td>\n",
       "      <td>Shoyeb</td>\n",
       "      <td>Data Science</td>\n",
       "    </tr>\n",
       "    <tr>\n",
       "      <th>1</th>\n",
       "      <td>3</td>\n",
       "      <td>Durgesh</td>\n",
       "      <td>Calculus</td>\n",
       "    </tr>\n",
       "  </tbody>\n",
       "</table>\n",
       "</div>"
      ],
      "text/plain": [
       "   Roll No Student Name        Course\n",
       "0        2       Shoyeb  Data Science\n",
       "1        3      Durgesh      Calculus"
      ]
     },
     "execution_count": 12,
     "metadata": {},
     "output_type": "execute_result"
    }
   ],
   "source": [
    "pd.merge(stud, course, on = \"Roll No\", how = \"inner\")"
   ]
  },
  {
   "cell_type": "code",
   "execution_count": 14,
   "id": "fa4b3901-9a7f-4214-af1f-79ce53798daa",
   "metadata": {},
   "outputs": [
    {
     "name": "stdout",
     "output_type": "stream",
     "text": [
      "   Roll No Student Name        Course\n",
      "0        1         Ravi           NaN\n",
      "1        2       Shoyeb  Data Science\n",
      "2        3      Durgesh      Calculus\n",
      "3        4         Yash           NaN\n"
     ]
    }
   ],
   "source": [
    "print(pd.merge(stud, course, on = \"Roll No\", how = \"outer\"))"
   ]
  }
 ],
 "metadata": {
  "kernelspec": {
   "display_name": "Python 3 (ipykernel)",
   "language": "python",
   "name": "python3"
  },
  "language_info": {
   "codemirror_mode": {
    "name": "ipython",
    "version": 3
   },
   "file_extension": ".py",
   "mimetype": "text/x-python",
   "name": "python",
   "nbconvert_exporter": "python",
   "pygments_lexer": "ipython3",
   "version": "3.11.5"
  }
 },
 "nbformat": 4,
 "nbformat_minor": 5
}
