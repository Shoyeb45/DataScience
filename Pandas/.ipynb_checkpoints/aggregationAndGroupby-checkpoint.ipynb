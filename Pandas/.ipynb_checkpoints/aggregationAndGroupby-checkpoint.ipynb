{
 "cells": [
  {
   "cell_type": "code",
   "execution_count": 2,
   "id": "26d2ef46-9192-42a9-b6c9-9b46dc0df68f",
   "metadata": {},
   "outputs": [],
   "source": [
    "import pandas as pd"
   ]
  },
  {
   "cell_type": "code",
   "execution_count": 8,
   "id": "d4d818bb-12c5-4fae-9b73-cc9fb4a758a4",
   "metadata": {},
   "outputs": [],
   "source": [
    "# Aggregation\n",
    "df = pd.DataFrame({\n",
    "    'A': [1, 2, 3, 4, 5],\n",
    "    'B': [10, 20, 30, 40, 50]\n",
    "})"
   ]
  },
  {
   "cell_type": "code",
   "execution_count": 17,
   "id": "5e5e815a-2a4e-41ea-bef0-3ec48e3903a1",
   "metadata": {},
   "outputs": [
    {
     "name": "stdout",
     "output_type": "stream",
     "text": [
      "Sum : 15\n",
      "Mean:3.0 \n"
     ]
    }
   ],
   "source": [
    "SumA = df[\"A\"].sum()\n",
    "MeanA = df[\"A\"].mean()\n",
    "print(f\"Sum : {SumA}\\nMean:{MeanA} \")"
   ]
  },
  {
   "cell_type": "code",
   "execution_count": 20,
   "id": "858e4a4d-605d-44df-96b0-9a121d4fafe7",
   "metadata": {},
   "outputs": [],
   "source": [
    "# Groupby\n",
    "data = {\n",
    "    'Category': ['A', 'B', 'A', 'C', 'B', 'A', 'C', 'A'],\n",
    "    'Sales': [100, 200, 150, 300, 250, 50, 400, 100]\n",
    "}\n",
    "\n",
    "df = pd.DataFrame(data)"
   ]
  },
  {
   "cell_type": "code",
   "execution_count": 22,
   "id": "32961b07-fe01-4e0f-84ee-d99db0c85582",
   "metadata": {},
   "outputs": [
    {
     "data": {
      "text/plain": [
       "Category\n",
       "A    100.0\n",
       "B    225.0\n",
       "C    350.0\n",
       "Name: Sales, dtype: float64"
      ]
     },
     "execution_count": 22,
     "metadata": {},
     "output_type": "execute_result"
    }
   ],
   "source": [
    "group1 = df.groupby(\"Category\")[\"Sales\"].mean()\n",
    "group1"
   ]
  },
  {
   "cell_type": "code",
   "execution_count": 25,
   "id": "e28eb6ea-3da3-4ed2-9f58-6c5eaa9afdad",
   "metadata": {},
   "outputs": [
    {
     "data": {
      "text/plain": [
       "{'A': [0, 2, 5, 7], 'B': [1, 4], 'C': [3, 6]}"
      ]
     },
     "execution_count": 25,
     "metadata": {},
     "output_type": "execute_result"
    }
   ],
   "source": [
    "group1 = df.groupby(\"Category\")\n",
    "f = group1.groups"
   ]
  },
  {
   "cell_type": "code",
   "execution_count": 35,
   "id": "3d4c2f68-6a97-4211-8b5b-8bbacf10c3a5",
   "metadata": {},
   "outputs": [
    {
     "data": {
      "text/plain": [
       "Category\n",
       "A    400\n",
       "B    450\n",
       "C    700\n",
       "Name: Sales, dtype: int64"
      ]
     },
     "execution_count": 35,
     "metadata": {},
     "output_type": "execute_result"
    }
   ],
   "source": [
    "group1[\"Sales\"].sum()"
   ]
  },
  {
   "cell_type": "code",
   "execution_count": null,
   "id": "7418b35d-198d-4975-8235-820d6fab69d5",
   "metadata": {},
   "outputs": [],
   "source": []
  }
 ],
 "metadata": {
  "kernelspec": {
   "display_name": "Python 3 (ipykernel)",
   "language": "python",
   "name": "python3"
  },
  "language_info": {
   "codemirror_mode": {
    "name": "ipython",
    "version": 3
   },
   "file_extension": ".py",
   "mimetype": "text/x-python",
   "name": "python",
   "nbconvert_exporter": "python",
   "pygments_lexer": "ipython3",
   "version": "3.11.5"
  }
 },
 "nbformat": 4,
 "nbformat_minor": 5
}
