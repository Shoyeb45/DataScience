{
 "cells": [
  {
   "cell_type": "code",
   "execution_count": 3,
   "id": "26d2ef46-9192-42a9-b6c9-9b46dc0df68f",
   "metadata": {},
   "outputs": [],
   "source": [
    "import pandas as pd"
   ]
  },
  {
   "cell_type": "code",
   "execution_count": 4,
   "id": "d4d818bb-12c5-4fae-9b73-cc9fb4a758a4",
   "metadata": {},
   "outputs": [],
   "source": [
    "# Aggregation\n",
    "df = pd.DataFrame({\n",
    "    'A': [1, 2, 3, 4, 5],\n",
    "    'B': [10, 20, 30, 40, 50]\n",
    "})"
   ]
  },
  {
   "cell_type": "code",
   "execution_count": 5,
   "id": "5e5e815a-2a4e-41ea-bef0-3ec48e3903a1",
   "metadata": {},
   "outputs": [
    {
     "name": "stdout",
     "output_type": "stream",
     "text": [
      "Sum : 15\n",
      "Mean:3.0 \n"
     ]
    }
   ],
   "source": [
    "SumA = df[\"A\"].sum()\n",
    "MeanA = df[\"A\"].mean()\n",
    "print(f\"Sum : {SumA}\\nMean:{MeanA} \")"
   ]
  },
  {
   "cell_type": "code",
   "execution_count": 6,
   "id": "858e4a4d-605d-44df-96b0-9a121d4fafe7",
   "metadata": {},
   "outputs": [],
   "source": [
    "# Groupby\n",
    "data = {\n",
    "    'Category': ['A', 'B', 'A', 'C', 'B', 'A', 'C', 'A'],\n",
    "    'Sales': [100, 200, 150, 300, 250, 50, 400, 100]\n",
    "}\n",
    "\n",
    "df = pd.DataFrame(data)"
   ]
  },
  {
   "cell_type": "code",
   "execution_count": 7,
   "id": "32961b07-fe01-4e0f-84ee-d99db0c85582",
   "metadata": {},
   "outputs": [
    {
     "data": {
      "text/plain": [
       "Category\n",
       "A    100.0\n",
       "B    225.0\n",
       "C    350.0\n",
       "Name: Sales, dtype: float64"
      ]
     },
     "execution_count": 7,
     "metadata": {},
     "output_type": "execute_result"
    }
   ],
   "source": [
    "group1 = df.groupby(\"Category\")[\"Sales\"].mean()\n",
    "group1"
   ]
  },
  {
   "cell_type": "code",
   "execution_count": 8,
   "id": "e28eb6ea-3da3-4ed2-9f58-6c5eaa9afdad",
   "metadata": {},
   "outputs": [],
   "source": [
    "group1 = df.groupby(\"Category\")"
   ]
  },
  {
   "cell_type": "code",
   "execution_count": 9,
   "id": "3d4c2f68-6a97-4211-8b5b-8bbacf10c3a5",
   "metadata": {},
   "outputs": [
    {
     "data": {
      "text/plain": [
       "Category\n",
       "A    400\n",
       "B    450\n",
       "C    700\n",
       "Name: Sales, dtype: int64"
      ]
     },
     "execution_count": 9,
     "metadata": {},
     "output_type": "execute_result"
    }
   ],
   "source": [
    "group1[\"Sales\"].sum()"
   ]
  },
  {
   "cell_type": "code",
   "execution_count": 14,
   "id": "7418b35d-198d-4975-8235-820d6fab69d5",
   "metadata": {},
   "outputs": [
    {
     "data": {
      "text/plain": [
       "[('A',\n",
       "    Category  Sales\n",
       "  0        A    100\n",
       "  2        A    150\n",
       "  5        A     50\n",
       "  7        A    100),\n",
       " ('B',\n",
       "    Category  Sales\n",
       "  1        B    200\n",
       "  4        B    250),\n",
       " ('C',\n",
       "    Category  Sales\n",
       "  3        C    300\n",
       "  6        C    400)]"
      ]
     },
     "execution_count": 14,
     "metadata": {},
     "output_type": "execute_result"
    }
   ],
   "source": [
    "list(group1)"
   ]
  },
  {
   "cell_type": "raw",
   "id": "fbf5f8a8-5c35-4b3c-908d-99937ccb8750",
   "metadata": {},
   "source": [
    "\n",
    "Multiple Aggregations on Single Column\n"
   ]
  },
  {
   "cell_type": "code",
   "execution_count": 20,
   "id": "5dd6928c-5804-4edf-8a34-9b330c2b615d",
   "metadata": {},
   "outputs": [
    {
     "name": "stdout",
     "output_type": "stream",
     "text": [
      "           mean  sum  median\n",
      "Category                    \n",
      "A         100.0  400   100.0\n",
      "B         225.0  450   225.0\n",
      "C         350.0  700   350.0\n"
     ]
    }
   ],
   "source": [
    "grouped = df.groupby(\"Category\")[\"Sales\"].agg([\"mean\", \"sum\", \"median\"])\n",
    "print(grouped)"
   ]
  },
  {
   "cell_type": "code",
   "execution_count": 25,
   "id": "38981a6d-f10a-41fd-ad13-b3c14d09c948",
   "metadata": {},
   "outputs": [
    {
     "name": "stdout",
     "output_type": "stream",
     "text": [
      "Year  Category\n",
      "2019  B           200\n",
      "      C           400\n",
      "2020  A           100\n",
      "      C           300\n",
      "2021  A           300\n",
      "      B           250\n",
      "Name: Sales, dtype: int64\n",
      "Category  Year\n",
      "A         2020    100\n",
      "          2021    300\n",
      "B         2019    200\n",
      "          2021    250\n",
      "C         2019    400\n",
      "          2020    300\n",
      "Name: Sales, dtype: int64\n"
     ]
    }
   ],
   "source": [
    "# Grouping buy multiple columns\n",
    "\n",
    "df[\"Year\"] = [2020, 2019, 2021, 2020, 2021, 2021, 2019, 2021] \n",
    "\n",
    "grp = df.groupby([\"Year\", \"Category\"])[\"Sales\"].sum()\n",
    "print(grp)\n",
    "\n",
    "grp1 = df.groupby([\"Category\", \"Year\"])[\"Sales\"].sum()\n",
    "print(grp1)"
   ]
  }
 ],
 "metadata": {
  "kernelspec": {
   "display_name": "Python 3 (ipykernel)",
   "language": "python",
   "name": "python3"
  },
  "language_info": {
   "codemirror_mode": {
    "name": "ipython",
    "version": 3
   },
   "file_extension": ".py",
   "mimetype": "text/x-python",
   "name": "python",
   "nbconvert_exporter": "python",
   "pygments_lexer": "ipython3",
   "version": "3.11.5"
  }
 },
 "nbformat": 4,
 "nbformat_minor": 5
}
