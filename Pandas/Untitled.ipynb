{
 "cells": [
  {
   "cell_type": "code",
   "execution_count": 2,
   "id": "b71cd89f-963e-40cb-a73d-9aea1cadacb0",
   "metadata": {},
   "outputs": [],
   "source": [
    "import pandas as pd\n",
    "# Series\n",
    "s1=pd.Series(['A','B','C'])\n",
    "s2=pd.Series(['D','E','F'])"
   ]
  },
  {
   "cell_type": "code",
   "execution_count": 3,
   "id": "844485b8-5bab-4d6c-9789-101d6969726e",
   "metadata": {},
   "outputs": [],
   "source": [
    "s1.index = [1, 2, 3]\n",
    "s2.index = [1, 2, 3]"
   ]
  },
  {
   "cell_type": "code",
   "execution_count": null,
   "id": "9a15e32a-ae51-4a0e-92cd-b9d4e00270dd",
   "metadata": {},
   "outputs": [],
   "source": [
    "#concat function\n"
   ]
  }
 ],
 "metadata": {
  "kernelspec": {
   "display_name": "Python 3 (ipykernel)",
   "language": "python",
   "name": "python3"
  },
  "language_info": {
   "codemirror_mode": {
    "name": "ipython",
    "version": 3
   },
   "file_extension": ".py",
   "mimetype": "text/x-python",
   "name": "python",
   "nbconvert_exporter": "python",
   "pygments_lexer": "ipython3",
   "version": "3.11.5"
  }
 },
 "nbformat": 4,
 "nbformat_minor": 5
}
