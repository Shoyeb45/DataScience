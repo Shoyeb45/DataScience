{
 "cells": [
  {
   "cell_type": "code",
   "execution_count": 1,
   "id": "ec84c2c8-1474-4a07-8c38-17e89268b59d",
   "metadata": {},
   "outputs": [],
   "source": [
    "import pandas as pd\n",
    "\n",
    "books_df = pd.DataFrame({\n",
    "    'Title': ['To Kill a Mockingbird', '1984', 'The Great Gatsby'],\n",
    "    'Author': ['Harper Lee', 'George Orwell', 'F. Scott Fitzgerald']\n",
    "})\n",
    "\n",
    "new_book_1 = {'Title': 'The Catcher in the Rye', 'Author': 'J.D. Salinger'}\n",
    "new_book_2 = {'Title': 'The Hobbit', 'Author': 'J.R.R. Tolkien'}\n"
   ]
  },
  {
   "cell_type": "code",
   "execution_count": 11,
   "id": "12b7730b-1cfa-4f9c-b78d-760c36644c73",
   "metadata": {},
   "outputs": [],
   "source": [
    "h = books_df.add(new_book_1)"
   ]
  },
  {
   "cell_type": "code",
   "execution_count": 12,
   "id": "d7ad0005-c2bd-46ae-b70f-63ea800063d2",
   "metadata": {},
   "outputs": [
    {
     "data": {
      "text/html": [
       "<div>\n",
       "<style scoped>\n",
       "    .dataframe tbody tr th:only-of-type {\n",
       "        vertical-align: middle;\n",
       "    }\n",
       "\n",
       "    .dataframe tbody tr th {\n",
       "        vertical-align: top;\n",
       "    }\n",
       "\n",
       "    .dataframe thead th {\n",
       "        text-align: right;\n",
       "    }\n",
       "</style>\n",
       "<table border=\"1\" class=\"dataframe\">\n",
       "  <thead>\n",
       "    <tr style=\"text-align: right;\">\n",
       "      <th></th>\n",
       "      <th>Title</th>\n",
       "      <th>Author</th>\n",
       "    </tr>\n",
       "  </thead>\n",
       "  <tbody>\n",
       "    <tr>\n",
       "      <th>0</th>\n",
       "      <td>To Kill a MockingbirdThe Catcher in the Rye</td>\n",
       "      <td>Harper LeeJ.D. Salinger</td>\n",
       "    </tr>\n",
       "    <tr>\n",
       "      <th>1</th>\n",
       "      <td>1984The Catcher in the Rye</td>\n",
       "      <td>George OrwellJ.D. Salinger</td>\n",
       "    </tr>\n",
       "    <tr>\n",
       "      <th>2</th>\n",
       "      <td>The Great GatsbyThe Catcher in the Rye</td>\n",
       "      <td>F. Scott FitzgeraldJ.D. Salinger</td>\n",
       "    </tr>\n",
       "  </tbody>\n",
       "</table>\n",
       "</div>"
      ],
      "text/plain": [
       "                                         Title  \\\n",
       "0  To Kill a MockingbirdThe Catcher in the Rye   \n",
       "1                   1984The Catcher in the Rye   \n",
       "2       The Great GatsbyThe Catcher in the Rye   \n",
       "\n",
       "                             Author  \n",
       "0           Harper LeeJ.D. Salinger  \n",
       "1        George OrwellJ.D. Salinger  \n",
       "2  F. Scott FitzgeraldJ.D. Salinger  "
      ]
     },
     "execution_count": 12,
     "metadata": {},
     "output_type": "execute_result"
    }
   ],
   "source": [
    "h"
   ]
  }
 ],
 "metadata": {
  "kernelspec": {
   "display_name": "Python 3 (ipykernel)",
   "language": "python",
   "name": "python3"
  },
  "language_info": {
   "codemirror_mode": {
    "name": "ipython",
    "version": 3
   },
   "file_extension": ".py",
   "mimetype": "text/x-python",
   "name": "python",
   "nbconvert_exporter": "python",
   "pygments_lexer": "ipython3",
   "version": "3.11.5"
  }
 },
 "nbformat": 4,
 "nbformat_minor": 5
}
