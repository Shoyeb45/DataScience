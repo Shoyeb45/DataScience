{
 "cells": [
  {
   "cell_type": "code",
   "execution_count": 1,
   "id": "1c9e1f66",
   "metadata": {
    "_cell_guid": "b1076dfc-b9ad-4769-8c92-a6c4dae69d19",
    "_uuid": "8f2839f25d086af736a60e9eeb907d3b93b6e0e5",
    "execution": {
     "iopub.execute_input": "2024-12-02T13:45:24.197466Z",
     "iopub.status.busy": "2024-12-02T13:45:24.197016Z",
     "iopub.status.idle": "2024-12-02T13:45:25.154288Z",
     "shell.execute_reply": "2024-12-02T13:45:25.153163Z"
    },
    "papermill": {
     "duration": 0.963863,
     "end_time": "2024-12-02T13:45:25.156856",
     "exception": false,
     "start_time": "2024-12-02T13:45:24.192993",
     "status": "completed"
    },
    "tags": []
   },
   "outputs": [],
   "source": [
    "\n",
    "\n",
    "import numpy as np # linear algebra\n",
    "import pandas as pd # data processing, CSV file I/O (e.g. pd.read_csv)\n",
    "\n",
    "\n",
    "import os\n",
    "for dirname, _, filenames in os.walk('/kaggle/input'):\n",
    "    for filename in filenames:\n",
    "        print(os.path.join(dirname, filename))"
   ]
  },
  {
   "cell_type": "code",
   "execution_count": null,
   "id": "1b4023b8",
   "metadata": {
    "papermill": {
     "duration": 0.001652,
     "end_time": "2024-12-02T13:45:25.160681",
     "exception": false,
     "start_time": "2024-12-02T13:45:25.159029",
     "status": "completed"
    },
    "tags": []
   },
   "outputs": [],
   "source": []
  },
  {
   "cell_type": "markdown",
   "id": "1ef82fad",
   "metadata": {
    "papermill": {
     "duration": 0.001443,
     "end_time": "2024-12-02T13:45:25.163842",
     "exception": false,
     "start_time": "2024-12-02T13:45:25.162399",
     "status": "completed"
    },
    "tags": []
   },
   "source": [
    "# Linear Regression\n",
    "- We have one dependent and one independent variable.\n",
    "  $$h_\\theta(x)=\\theta_0 + \\theta_1 * x$$\n",
    "- Let we have to pridict weight given height.\n",
    "- Error : $\\hat{y_i} = h_\\theta(x)_i - y_i$\n",
    "- We need to minimise this\n",
    "\n",
    "## Cost Function  \n",
    "$$J(\\theta_0, \\theta_1) = \\frac{1}{2m} * \\sum_{k=1}^{m}(h_\\theta(x_i) - y_i)^2$$\n",
    "- We need to select value of $\\theta_0$ and $\\theta_1$ such that we can minimize our cost function.\n",
    "- We use gradient descent algorithm to minimize our cost function, which is given by:\n",
    "  $$\\theta_{new} = \\theta_{old} - \\alpha * g(\\theta_{old})$$\n",
    "  Where, $g(\\theta)$ is a gradient vector of $J(\\theta)$ and $\\alpha$ is learning rate which decides the rate of convergence of algorithm.\n",
    "- Until we found global minima, we keep changing our $\\theta$ vector by above equation.\n",
    "\n",
    "## Multiple Linear Regression\n",
    "\n",
    "- Equation will look like :\n",
    "$$h_{\\theta}(x_1, x_2, x_3,\\cdots,x_n) = \\theta_0 + \\theta_1 * x_1 + \\theta_2 * x_2 + \\theta_3 * x_3 + \\cdots +\\theta_n * x_n$$\n",
    "\n",
    "# Performance Metric\n",
    "\n",
    "## 1. R Sqaured\n",
    "- R-Square value is given by :\n",
    "  $$ R^2 = 1 - \\frac{SS_{residual}}{SS_{total}} $$\n",
    "  $$ R^2 = 1 - \\frac{\\sum_{i=1}^{m}(y_i - \\hat{y_i})^2}{\\sum_{i=1}^{m}(y_i - \\bar{y})^2}$$\n",
    "- $\\bar{y}$ is a mean of $y_i$'s\n",
    "- This value is between 0 to 1. So if this value is more towards 1, our model is good.\n",
    "\n",
    "## 2. Adjusted R Sqaured\n",
    "$$ Adjusted-R^2 = 1 - \\frac{(1 - R^2) * (n - 1)}{n - p - 1}$$\n",
    "- Where $n$ is number of data points, $p$ is number of independent features.\n",
    "\n",
    "\n",
    "# Cost functions :  \n",
    "\n",
    "## 1. Mean Squared Error\n",
    "$$MSE = \\frac{\\sum_{i=1}^{n}(y_i - \\hat{y_i})^2}{n}$$\n",
    "\n",
    "|Advantages| Disadvantages|\n",
    "|--|--|\n",
    "|Differentiable| Not robust to outliers|\n",
    "|It has one local and one global minima| It is not in the same unit|\n",
    "|Converges faster||\n",
    "\n",
    "## 2. Mean Absolute Error\n",
    "$$MAE = \\frac{\\sum_{i=1}^{n}|y_i - \\hat{y_i}|}{n}$$\n",
    "\n",
    "|Disadvantages| Advantages|\n",
    "|--|--|\n",
    "|Non Differentiable at $x = 0$. So convergence usually take more time. Optimisation is a complex task.| Robust to outliers|\n",
    "|Time consuming| It will be in the same unit|\n",
    "## 3. Root Mean Absolute Error\n",
    "$$RMSE = \\sqrt{MSE}$$\n",
    "$$EMSE = \\sqrt{\\frac{\\sum_{i=1}^{n}(y_i - \\hat{y_i})^2}{n}}$$\n",
    "\n",
    "|Advantages| Disadvantages|\n",
    "|--|--|\n",
    "|Differentiable| Not robust to outliers|\n",
    "|It is in the same unit| |"
   ]
  },
  {
   "cell_type": "code",
   "execution_count": null,
   "id": "ad30a233",
   "metadata": {
    "papermill": {
     "duration": 0.001424,
     "end_time": "2024-12-02T13:45:25.166936",
     "exception": false,
     "start_time": "2024-12-02T13:45:25.165512",
     "status": "completed"
    },
    "tags": []
   },
   "outputs": [],
   "source": []
  }
 ],
 "metadata": {
  "kaggle": {
   "accelerator": "none",
   "dataSources": [],
   "dockerImageVersionId": 30786,
   "isGpuEnabled": false,
   "isInternetEnabled": false,
   "language": "python",
   "sourceType": "notebook"
  },
  "kernelspec": {
   "display_name": "Python 3",
   "language": "python",
   "name": "python3"
  },
  "language_info": {
   "codemirror_mode": {
    "name": "ipython",
    "version": 3
   },
   "file_extension": ".py",
   "mimetype": "text/x-python",
   "name": "python",
   "nbconvert_exporter": "python",
   "pygments_lexer": "ipython3",
   "version": "3.10.14"
  },
  "papermill": {
   "default_parameters": {},
   "duration": 4.242266,
   "end_time": "2024-12-02T13:45:25.690087",
   "environment_variables": {},
   "exception": null,
   "input_path": "__notebook__.ipynb",
   "output_path": "__notebook__.ipynb",
   "parameters": {},
   "start_time": "2024-12-02T13:45:21.447821",
   "version": "2.6.0"
  }
 },
 "nbformat": 4,
 "nbformat_minor": 5
}
