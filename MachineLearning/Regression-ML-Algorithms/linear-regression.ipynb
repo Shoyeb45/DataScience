{
 "cells": [
  {
   "cell_type": "code",
   "execution_count": 4,
   "id": "8e89bc88",
   "metadata": {
    "_cell_guid": "b1076dfc-b9ad-4769-8c92-a6c4dae69d19",
    "_uuid": "8f2839f25d086af736a60e9eeb907d3b93b6e0e5",
    "execution": {
     "iopub.execute_input": "2024-12-02T14:10:42.325793Z",
     "iopub.status.busy": "2024-12-02T14:10:42.325309Z",
     "iopub.status.idle": "2024-12-02T14:10:43.275590Z",
     "shell.execute_reply": "2024-12-02T14:10:43.274501Z"
    },
    "papermill": {
     "duration": 0.957129,
     "end_time": "2024-12-02T14:10:43.278195",
     "exception": false,
     "start_time": "2024-12-02T14:10:42.321066",
     "status": "completed"
    },
    "tags": []
   },
   "outputs": [],
   "source": [
    "\n",
    "import matplotlib.pyplot as plt\n",
    "import numpy as np # linear algebra\n",
    "import pandas as pd # data processing, CSV file I/O (e.g. pd.read_csv)\n",
    "import seaborn as sns"
   ]
  },
  {
   "cell_type": "code",
   "execution_count": 5,
   "id": "94f1ec1d",
   "metadata": {
    "papermill": {
     "duration": 0.001834,
     "end_time": "2024-12-02T14:10:43.283400",
     "exception": false,
     "start_time": "2024-12-02T14:10:43.281566",
     "status": "completed"
    },
    "tags": []
   },
   "outputs": [],
   "source": [
    "from sklearn.model_selection import train_test_split"
   ]
  },
  {
   "cell_type": "markdown",
   "id": "376d1c95",
   "metadata": {
    "papermill": {
     "duration": 0.001461,
     "end_time": "2024-12-02T14:10:43.286683",
     "exception": false,
     "start_time": "2024-12-02T14:10:43.285222",
     "status": "completed"
    },
    "tags": []
   },
   "source": [
    "# Linear Regression\n",
    "- We have one dependent and one independent variable.\n",
    "  $$h_\\theta(x)=\\theta_0 + \\theta_1 * x$$\n",
    "- Let we have to pridict weight given height.\n",
    "- Error : $\\hat{y_i} = h_\\theta(x)_i - y_i$\n",
    "- We need to minimise this\n",
    "\n",
    "## Cost Function  \n",
    "$$J(\\theta_0, \\theta_1) = \\frac{1}{2m} * \\sum_{k=1}^{m}(h_\\theta(x_i) - y_i)^2$$\n",
    "- We need to select value of $\\theta_0$ and $\\theta_1$ such that we can minimize our cost function.\n",
    "- We use gradient descent algorithm to minimize our cost function, which is given by:\n",
    "  $$\\theta_{new} = \\theta_{old} - \\alpha * g(\\theta_{old})$$\n",
    "  Where, $g(\\theta)$ is a gradient vector of $J(\\theta)$ and $\\alpha$ is learning rate which decides the rate of convergence of algorithm.\n",
    "- Until we found global minima, we keep changing our $\\theta$ vector by above equation.\n",
    "\n",
    "## Multiple Linear Regression\n",
    "\n",
    "- Equation will look like :\n",
    "$$h_{\\theta}(x_1, x_2, x_3,\\cdots,x_n) = \\theta_0 + \\theta_1 * x_1 + \\theta_2 * x_2 + \\theta_3 * x_3 + \\cdots +\\theta_n * x_n$$\n",
    "\n",
    "# Performance Metric\n",
    "\n",
    "## 1. R Sqaured\n",
    "- R-Square value is given by :\n",
    "  $$ R^2 = 1 - \\frac{SS_{residual}}{SS_{total}} $$\n",
    "  $$ R^2 = 1 - \\frac{\\sum_{i=1}^{m}(y_i - \\hat{y_i})^2}{\\sum_{i=1}^{m}(y_i - \\bar{y})^2}$$\n",
    "- $\\bar{y}$ is a mean of $y_i$'s\n",
    "- This value is between 0 to 1. So if this value is more towards 1, our model is good.\n",
    "\n",
    "## 2. Adjusted R Sqaured\n",
    "$$ Adjusted-R^2 = 1 - \\frac{(1 - R^2) * (n - 1)}{n - p - 1}$$\n",
    "- Where $n$ is number of data points, $p$ is number of independent features.\n",
    "\n",
    "\n",
    "# Cost functions :  \n",
    "\n",
    "## 1. Mean Squared Error\n",
    "$$MSE = \\frac{\\sum_{i=1}^{n}(y_i - \\hat{y_i})^2}{n}$$\n",
    "\n",
    "|Advantages| Disadvantages|\n",
    "|--|--|\n",
    "|Differentiable| Not robust to outliers|\n",
    "|It has one local and one global minima| It is not in the same unit|\n",
    "|Converges faster||\n",
    "\n",
    "## 2. Mean Absolute Error\n",
    "$$MAE = \\frac{\\sum_{i=1}^{n}|y_i - \\hat{y_i}|}{n}$$\n",
    "\n",
    "|Disadvantages| Advantages|\n",
    "|--|--|\n",
    "|Non Differentiable at $x = 0$. So convergence usually take more time. Optimisation is a complex task.| Robust to outliers|\n",
    "|Time consuming| It will be in the same unit|\n",
    "## 3. Root Mean Absolute Error\n",
    "$$RMSE = \\sqrt{MSE}$$\n",
    "$$EMSE = \\sqrt{\\frac{\\sum_{i=1}^{n}(y_i - \\hat{y_i})^2}{n}}$$\n",
    "\n",
    "|Advantages| Disadvantages|\n",
    "|--|--|\n",
    "|Differentiable| Not robust to outliers|\n",
    "|It is in the same unit| |\n",
    "\n",
    "\n",
    "# Overfitting and underfitting\n",
    "- We divide our dataset into 2 datasets:\n",
    "  1. Training Dataset\n",
    "  2. Test Dataset\n",
    "\n",
    "  #### 1. Training Dataset\n",
    "  - Further we divide it into two datasets:\n",
    "  1. Train : For training the model\n",
    "  2. Validation : Hyperparameter tuning for model\n",
    "\n",
    "### 1. Generalised model\n",
    "1. Very Good accuracy -> Train dataset   [Low bias]\n",
    "2. Very Good accuracy -> Test dataset    [Low variance]\n",
    "3. \n",
    "### 2. Overfitting model\n",
    "1. Very good accuracy -> Train Dataset [Low bias]\n",
    "2. Bad accuracy -> Test Dataset [High Variance]\n",
    "3. \n",
    "### 3. Underfitting Model\n",
    "1. Low accuracy -> Train Dataset [High bias]\n",
    "2. Low accuracy -> Test Dataset [High Variance]"
   ]
  },
  {
   "cell_type": "markdown",
   "id": "fb17daa3",
   "metadata": {},
   "source": [
    "# <h1 align=center>Implementation </h1>"
   ]
  },
  {
   "cell_type": "code",
   "execution_count": 6,
   "id": "ae668cbd",
   "metadata": {},
   "outputs": [],
   "source": [
    "df = pd.read_csv(\"https://raw.githubusercontent.com/Shoyeb45/DataScience/main/Dataset/height-weight.csv\")"
   ]
  },
  {
   "cell_type": "markdown",
   "id": "92a56d54",
   "metadata": {},
   "source": [
    "Weight - Input (x) <br>\n",
    "Height - Output (y)"
   ]
  },
  {
   "cell_type": "code",
   "execution_count": 7,
   "id": "ab34d59d",
   "metadata": {},
   "outputs": [],
   "source": [
    "def slope(val, X, Y):\n",
    "    m = X.size  # Number of data points\n",
    "    x1, x2 = 0, 0\n",
    "\n",
    "    for i in range(m):\n",
    "        x1 += (val[0] - val[1] * X[i] - Y[i])\n",
    "        x2 += (val[0] - val[1] * X[i] - Y[i]) * (-X[i])\n",
    "\n",
    "    x1 = x1 / x1.size\n",
    "    x2 = x2 / x2.size\n",
    "\n",
    "    return np.array([x1, x2]) "
   ]
  },
  {
   "cell_type": "code",
   "execution_count": 8,
   "id": "ae278502",
   "metadata": {},
   "outputs": [],
   "source": [
    "def find_parameter(X, Y): \n",
    "    init_val = np.array([10.0, 20.0])  # Initial values as floats\n",
    "    alpha = 0.001  # Learning rate\n",
    "\n",
    "    s = slope(init_val, X, Y)\n",
    "\n",
    "    max_iterations = 10000  # Safeguard for infinite loops\n",
    "    iterations = 0\n",
    "\n",
    "    while np.any(np.abs(s) > 1e-6):  # Continue until slope values are close to 0\n",
    "        init_val = init_val - alpha * s\n",
    "        s = slope(init_val, X, Y)\n",
    "\n",
    "        iterations += 1\n",
    "        if iterations > max_iterations:\n",
    "            print(\"Max iterations reached. Exiting loop.\")\n",
    "            break\n",
    "\n",
    "    return init_val"
   ]
  },
  {
   "cell_type": "code",
   "execution_count": 9,
   "id": "9415ce33",
   "metadata": {},
   "outputs": [
    {
     "data": {
      "image/png": "[encoded data removed]",
      "text/plain": [
       "<Figure size 640x480 with 1 Axes>"
      ]
     },
     "metadata": {},
     "output_type": "display_data"
    }
   ],
   "source": [
    "plt.scatter(df[\"Weight\"], df[\"Height\"])\n",
    "plt.show()"
   ]
  },
  {
   "cell_type": "code",
   "execution_count": 10,
   "id": "7c4adffd",
   "metadata": {},
   "outputs": [
    {
     "data": {
      "text/plain": [
       "<seaborn.axisgrid.PairGrid at 0x1e34fe42f90>"
      ]
     },
     "execution_count": 10,
     "metadata": {},
     "output_type": "execute_result"
    },
    {
     "data": {
      "image/png": "[encoded data removed]",
      "text/plain": [
       "<Figure size 500x500 with 6 Axes>"
      ]
     },
     "metadata": {},
     "output_type": "display_data"
    }
   ],
   "source": [
    "sns.pairplot(df)"
   ]
  },
  {
   "cell_type": "code",
   "execution_count": 19,
   "id": "eb98d5ae",
   "metadata": {},
   "outputs": [],
   "source": [
    "# Independent and dependent feature segregation \n",
    "\n",
    "X = df[['Weight']]  # it will give data-frame \n",
    "Y = df['Weight'] # it's simple series "
   ]
  },
  {
   "cell_type": "markdown",
   "id": "e57d35e0",
   "metadata": {},
   "source": [
    "### Make sure to have independent feature in form of dataframe or 2d array, dependent feature is ok"
   ]
  },
  {
   "cell_type": "code",
   "execution_count": 24,
   "id": "57ef711e",
   "metadata": {},
   "outputs": [],
   "source": [
    "# Train, test - split\n",
    "\n",
    "x_train, x_test, y_train, y_test = train_test_split(X, Y, test_size=0.25, random_state=42)"
   ]
  },
  {
   "cell_type": "code",
   "execution_count": 13,
   "id": "ff532f8a",
   "metadata": {},
   "outputs": [],
   "source": [
    "# Library Standardization\n",
    "from sklearn.preprocessing import StandardScaler\n"
   ]
  },
  {
   "cell_type": "code",
   "execution_count": null,
   "id": "d3844066",
   "metadata": {},
   "outputs": [],
   "source": []
  },
  {
   "cell_type": "code",
   "execution_count": 14,
   "id": "3ee0ef83",
   "metadata": {},
   "outputs": [
    {
     "data": {
      "text/plain": [
       "array([[-0.87662801],\n",
       "       [ 1.66773133],\n",
       "       [ 0.33497168],\n",
       "       [-1.48242785],\n",
       "       [ 1.36483141],\n",
       "       [-1.6641678 ],\n",
       "       [-0.75546804],\n",
       "       [-0.1496682 ],\n",
       "       [ 0.21381171],\n",
       "       [-1.36126788],\n",
       "       [-0.99778797],\n",
       "       [-0.02850823],\n",
       "       [ 1.06193149],\n",
       "       [ 0.57729161],\n",
       "       [ 0.75903157],\n",
       "       [ 0.88019153],\n",
       "       [ 0.45613165]])"
      ]
     },
     "execution_count": 14,
     "metadata": {},
     "output_type": "execute_result"
    }
   ],
   "source": [
    "scaler = StandardScaler()\n",
    "scaler.fit_transform(x_train) "
   ]
  },
  {
   "cell_type": "code",
   "execution_count": 15,
   "id": "2949cf2b",
   "metadata": {},
   "outputs": [
    {
     "data": {
      "text/plain": [
       "array([[ 0.33497168],\n",
       "       [ 0.33497168],\n",
       "       [-1.6641678 ],\n",
       "       [ 1.36483141],\n",
       "       [-0.45256812],\n",
       "       [ 1.97063125]])"
      ]
     },
     "execution_count": 15,
     "metadata": {},
     "output_type": "execute_result"
    }
   ],
   "source": [
    "#  for standardizing test-data we use transform, we do this to prevernt \"data leakage\"\n",
    "scaler.transform(x_test)"
   ]
  },
  {
   "cell_type": "code",
   "execution_count": 16,
   "id": "7d733d17",
   "metadata": {},
   "outputs": [],
   "source": [
    "from sklearn.linear_model import LinearRegression"
   ]
  },
  {
   "cell_type": "code",
   "execution_count": 17,
   "id": "c2d92b25",
   "metadata": {},
   "outputs": [],
   "source": [
    "regression = LinearRegression()"
   ]
  },
  {
   "cell_type": "code",
   "execution_count": null,
   "id": "a43bc91c",
   "metadata": {},
   "outputs": [],
   "source": []
  }
 ],
 "metadata": {
  "kaggle": {
   "accelerator": "none",
   "dataSources": [],
   "dockerImageVersionId": 30786,
   "isGpuEnabled": false,
   "isInternetEnabled": false,
   "language": "python",
   "sourceType": "notebook"
  },
  "kernelspec": {
   "display_name": "Python 3",
   "language": "python",
   "name": "python3"
  },
  "language_info": {
   "codemirror_mode": {
    "name": "ipython",
    "version": 3
   },
   "file_extension": ".py",
   "mimetype": "text/x-python",
   "name": "python",
   "nbconvert_exporter": "python",
   "pygments_lexer": "ipython3",
   "version": "3.12.6"
  },
  "papermill": {
   "default_parameters": {},
   "duration": 4.527603,
   "end_time": "2024-12-02T14:10:44.015372",
   "environment_variables": {},
   "exception": null,
   "input_path": "__notebook__.ipynb",
   "output_path": "__notebook__.ipynb",
   "parameters": {},
   "start_time": "2024-12-02T14:10:39.487769",
   "version": "2.6.0"
  }
 },
 "nbformat": 4,
 "nbformat_minor": 5
}
