{
 "cells": [
  {
   "cell_type": "code",
   "execution_count": 1,
   "id": "f006ac22",
   "metadata": {
    "_cell_guid": "b1076dfc-b9ad-4769-8c92-a6c4dae69d19",
    "_uuid": "8f2839f25d086af736a60e9eeb907d3b93b6e0e5",
    "execution": {
     "iopub.execute_input": "2024-12-02T08:42:42.779781Z",
     "iopub.status.busy": "2024-12-02T08:42:42.779374Z",
     "iopub.status.idle": "2024-12-02T08:42:43.769633Z",
     "shell.execute_reply": "2024-12-02T08:42:43.768428Z"
    },
    "papermill": {
     "duration": 0.997031,
     "end_time": "2024-12-02T08:42:43.772379",
     "exception": false,
     "start_time": "2024-12-02T08:42:42.775348",
     "status": "completed"
    },
    "tags": []
   },
   "outputs": [],
   "source": [
    "\n",
    "\n",
    "import numpy as np # linear algebra\n",
    "import pandas as pd # data processing, CSV file I/O (e.g. pd.read_csv)\n",
    "\n",
    "\n",
    "import os\n",
    "for dirname, _, filenames in os.walk('/kaggle/input'):\n",
    "    for filename in filenames:\n",
    "        print(os.path.join(dirname, filename))"
   ]
  },
  {
   "cell_type": "code",
   "execution_count": null,
   "id": "989333f7",
   "metadata": {
    "papermill": {
     "duration": 0.001601,
     "end_time": "2024-12-02T08:42:43.775980",
     "exception": false,
     "start_time": "2024-12-02T08:42:43.774379",
     "status": "completed"
    },
    "tags": []
   },
   "outputs": [],
   "source": []
  },
  {
   "cell_type": "markdown",
   "id": "6283f8c2",
   "metadata": {
    "papermill": {
     "duration": 0.001329,
     "end_time": "2024-12-02T08:42:43.778864",
     "exception": false,
     "start_time": "2024-12-02T08:42:43.777535",
     "status": "completed"
    },
    "tags": []
   },
   "source": [
    "# Linear Regression\n",
    "- We have one dependent and one independent variable.\n",
    "  $$h_\\theta(x)=\\theta_0 + \\theta_1 * x$$\n",
    "- Let we have to pridict weight given height.\n",
    "- Error : $y_i = h_\\theta(x)_i - y_i$\n",
    "- We need to minimise this\n",
    "\n",
    "## Cost Function  \n",
    "$$J(\\theta_0, \\theta_1) = \\frac{1}{2m} * \\sum_{k=1}^{m}(h_\\theta(x_i) - y_i)^2$$\n",
    "- We need to select value of $\\theta_0$ and $\\theta_1$ such that we can minimize our cost function.\n",
    "- We use gradient descent algorithm to minimize our cost function, which is given by:\n",
    "  $$\\theta_{new} = \\theta_{old} - \\alpha * g(\\theta_{old})$$\n",
    "  Where, $g(\\theta)$ is a gradient vector of $J(\\theta)$ and $\\alpha$ is learning rate which decides the rate of convergence of algorithm.\n",
    "- Until we found global minima, we keep changing our $\\theta$ vector by above equation.  "
   ]
  },
  {
   "cell_type": "code",
   "execution_count": null,
   "id": "8066f16e",
   "metadata": {
    "papermill": {
     "duration": 0.001285,
     "end_time": "2024-12-02T08:42:43.781648",
     "exception": false,
     "start_time": "2024-12-02T08:42:43.780363",
     "status": "completed"
    },
    "tags": []
   },
   "outputs": [],
   "source": []
  }
 ],
 "metadata": {
  "kaggle": {
   "accelerator": "none",
   "dataSources": [],
   "dockerImageVersionId": 30786,
   "isGpuEnabled": false,
   "isInternetEnabled": false,
   "language": "python",
   "sourceType": "notebook"
  },
  "kernelspec": {
   "display_name": "Python 3",
   "language": "python",
   "name": "python3"
  },
  "language_info": {
   "codemirror_mode": {
    "name": "ipython",
    "version": 3
   },
   "file_extension": ".py",
   "mimetype": "text/x-python",
   "name": "python",
   "nbconvert_exporter": "python",
   "pygments_lexer": "ipython3",
   "version": "3.10.14"
  },
  "papermill": {
   "default_parameters": {},
   "duration": 4.360574,
   "end_time": "2024-12-02T08:42:44.304187",
   "environment_variables": {},
   "exception": null,
   "input_path": "__notebook__.ipynb",
   "output_path": "__notebook__.ipynb",
   "parameters": {},
   "start_time": "2024-12-02T08:42:39.943613",
   "version": "2.6.0"
  }
 },
 "nbformat": 4,
 "nbformat_minor": 5
}
