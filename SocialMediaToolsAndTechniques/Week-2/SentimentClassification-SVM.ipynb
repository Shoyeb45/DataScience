{
 "cells": [
  {
   "cell_type": "code",
   "execution_count": 2,
   "metadata": {},
   "outputs": [],
   "source": [
    "import pandas as pd\n",
    "import numpy as np"
   ]
  },
  {
   "cell_type": "code",
   "execution_count": 3,
   "metadata": {},
   "outputs": [],
   "source": [
    "df = pd.read_csv(\"https://raw.githubusercontent.com/Shoyeb45/DataScience/refs/heads/main/Dataset/data-week-2/sentiment140_1000.csv\", sep = \"\\t\")"
   ]
  },
  {
   "cell_type": "code",
   "execution_count": 4,
   "metadata": {},
   "outputs": [
    {
     "data": {
      "text/plain": [
       "(                                               tweet  sentiment\n",
       " 0  @switchfoot http://twitpic.com/2y1zl - Awww, t...          0\n",
       " 1  is upset that he can't update his Facebook by ...          0\n",
       " 2  @Kenichan I dived many times for the ball. Man...          0\n",
       " 3    my whole body feels itchy and like its on fire           0\n",
       " 4  @nationwideclass no, it's not behaving at all....          0,\n",
       " (1000, 2))"
      ]
     },
     "execution_count": 4,
     "metadata": {},
     "output_type": "execute_result"
    }
   ],
   "source": [
    "df.head(),  df.shape"
   ]
  },
  {
   "cell_type": "code",
   "execution_count": 5,
   "metadata": {},
   "outputs": [
    {
     "data": {
      "text/plain": [
       "sentiment\n",
       "0    500\n",
       "4    500\n",
       "Name: count, dtype: int64"
      ]
     },
     "execution_count": 5,
     "metadata": {},
     "output_type": "execute_result"
    }
   ],
   "source": [
    "df[\"sentiment\"].value_counts()"
   ]
  },
  {
   "cell_type": "code",
   "execution_count": 6,
   "metadata": {},
   "outputs": [],
   "source": [
    "from sklearn.preprocessing import LabelEncoder  \n",
    "\n",
    "encode = LabelEncoder()\n",
    "df[\"class\"] = encode.fit_transform(df[\"sentiment\"])"
   ]
  },
  {
   "cell_type": "code",
   "execution_count": 7,
   "metadata": {},
   "outputs": [
    {
     "name": "stdout",
     "output_type": "stream",
     "text": [
      "                                               tweet  sentiment  class\n",
      "0  @switchfoot http://twitpic.com/2y1zl - Awww, t...          0      0\n",
      "1  is upset that he can't update his Facebook by ...          0      0\n",
      "2  @Kenichan I dived many times for the ball. Man...          0      0\n",
      "3    my whole body feels itchy and like its on fire           0      0\n",
      "4  @nationwideclass no, it's not behaving at all....          0      0\n",
      "Original classes : [0 4]\n",
      "Label classes : [0 1]\n"
     ]
    }
   ],
   "source": [
    "print(df.head())\n",
    "print(f\"Original classes : {encode.classes_}\")\n",
    "print(f\"Label classes : {df[\"class\"].unique()}\")\n"
   ]
  },
  {
   "cell_type": "code",
   "execution_count": 8,
   "metadata": {},
   "outputs": [],
   "source": [
    "from sklearn.feature_extraction.text import CountVectorizer\n",
    "\n",
    "# Convert the tweet into vectors\n",
    "# Convert sentences into feature space using N-grams\n",
    "ngram_range = (1, 2) # Unigrams and bigrams \n",
    "vectorizer = CountVectorizer(ngram_range = ngram_range, max_features = 1000)\n",
    "\n",
    "X = vectorizer.fit_transform(df[\"tweet\"])\n"
   ]
  },
  {
   "cell_type": "code",
   "execution_count": 9,
   "metadata": {},
   "outputs": [],
   "source": [
    "# Build model\n",
    "# Import\n",
    "from sklearn.svm import SVC\n",
    "\n",
    "model_svm = SVC(kernel = \"linear\", C = 1.0)"
   ]
  },
  {
   "cell_type": "code",
   "execution_count": 10,
   "metadata": {},
   "outputs": [
    {
     "name": "stdout",
     "output_type": "stream",
     "text": [
      "Performing K-Fold Cross-Validation...\n",
      "Fold 1:\n",
      "  Accuracy: 0.64\n",
      "  Precision: 0.64, Recall: 0.64, F-score: 0.64\n",
      "Fold 2:\n",
      "  Accuracy: 0.56\n",
      "  Precision: 0.57, Recall: 0.56, F-score: 0.56\n",
      "Fold 3:\n",
      "  Accuracy: 0.64\n",
      "  Precision: 0.64, Recall: 0.64, F-score: 0.64\n",
      "Fold 4:\n",
      "  Accuracy: 0.65\n",
      "  Precision: 0.65, Recall: 0.65, F-score: 0.65\n",
      "Fold 5:\n",
      "  Accuracy: 0.66\n",
      "  Precision: 0.66, Recall: 0.66, F-score: 0.66\n"
     ]
    }
   ],
   "source": [
    "from sklearn.model_selection import KFold\n",
    "from sklearn.metrics import accuracy_score, precision_recall_fscore_support, classification_report\n",
    "\n",
    "# Perform K-Fold Cross-Validation\n",
    "kf = KFold(n_splits=5, shuffle=True, random_state=42)  # 5-Fold Cross-Validation\n",
    "cv_accuracies = []\n",
    "precision_list = []\n",
    "recall_list = []\n",
    "fscore_list = []\n",
    "\n",
    "print(\"Performing K-Fold Cross-Validation...\")\n",
    "for fold, (train_index, test_index) in enumerate(kf.split(X), start=1):\n",
    "    # Split data into training and testing sets\n",
    "    X_train, X_test = X[train_index], X[test_index]\n",
    "    y_train, y_test = df['class'][train_index], df['class'][test_index]\n",
    "\n",
    "    # Train the model\n",
    "    model_svm.fit(X_train, y_train)\n",
    "\n",
    "    # Predict and evaluate\n",
    "    y_pred = model_svm.predict(X_test)\n",
    "    accuracy = accuracy_score(y_test, y_pred)\n",
    "    precision, recall, fscore, _ = precision_recall_fscore_support(y_test, y_pred, average='weighted')\n",
    "\n",
    "    # Store results\n",
    "    cv_accuracies.append(accuracy)\n",
    "    precision_list.append(precision)\n",
    "    recall_list.append(recall)\n",
    "    fscore_list.append(fscore)\n",
    "\n",
    "    print(f\"Fold {fold}:\")\n",
    "    print(f\"  Accuracy: {accuracy:.2f}\")\n",
    "    print(f\"  Precision: {precision:.2f}, Recall: {recall:.2f}, F-score: {fscore:.2f}\")"
   ]
  },
  {
   "cell_type": "code",
   "execution_count": 11,
   "metadata": {},
   "outputs": [
    {
     "name": "stdout",
     "output_type": "stream",
     "text": [
      "\n",
      "Cross-Validation Results:\n",
      "Mean Accuracy: 0.63 (±0.04)\n",
      "Mean Precision: 0.63\n",
      "Mean Recall: 0.63\n",
      "Mean F-score: 0.63\n"
     ]
    }
   ],
   "source": [
    "# Final evaluation\n",
    "mean_accuracy = np.mean(cv_accuracies)\n",
    "std_accuracy = np.std(cv_accuracies)\n",
    "mean_precision = np.mean(precision_list)\n",
    "mean_recall = np.mean(recall_list)\n",
    "mean_fscore = np.mean(fscore_list)\n",
    "\n",
    "print(\"\\nCross-Validation Results:\")\n",
    "print(f\"Mean Accuracy: {mean_accuracy:.2f} (±{std_accuracy:.2f})\")\n",
    "print(f\"Mean Precision: {mean_precision:.2f}\")\n",
    "print(f\"Mean Recall: {mean_recall:.2f}\")\n",
    "print(f\"Mean F-score: {mean_fscore:.2f}\")"
   ]
  },
  {
   "cell_type": "code",
   "execution_count": null,
   "metadata": {},
   "outputs": [],
   "source": []
  }
 ],
 "metadata": {
  "kernelspec": {
   "display_name": "Python 3",
   "language": "python",
   "name": "python3"
  },
  "language_info": {
   "codemirror_mode": {
    "name": "ipython",
    "version": 3
   },
   "file_extension": ".py",
   "mimetype": "text/x-python",
   "name": "python",
   "nbconvert_exporter": "python",
   "pygments_lexer": "ipython3",
   "version": "3.12.6"
  }
 },
 "nbformat": 4,
 "nbformat_minor": 2
}
