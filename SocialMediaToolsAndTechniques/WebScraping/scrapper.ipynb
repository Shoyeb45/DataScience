{
 "cells": [
  {
   "cell_type": "code",
   "execution_count": 1,
   "metadata": {},
   "outputs": [],
   "source": [
    "import requests\n",
    "from bs4 import BeautifulSoup"
   ]
  },
  {
   "cell_type": "code",
   "execution_count": 2,
   "metadata": {},
   "outputs": [],
   "source": [
    "url = \"https://shoyeb.vercel.app/\"\n",
    "response = requests.get(url)"
   ]
  },
  {
   "cell_type": "code",
   "execution_count": 3,
   "metadata": {},
   "outputs": [
    {
     "name": "stdout",
     "output_type": "stream",
     "text": [
      "<Response [200]>\n"
     ]
    }
   ],
   "source": [
    "print(response)"
   ]
  },
  {
   "cell_type": "code",
   "execution_count": 10,
   "metadata": {},
   "outputs": [
    {
     "name": "stdout",
     "output_type": "stream",
     "text": [
      "b'<!DOCTYPE html>\\n<html lang=\"en\">\\n<head>\\n    <meta charset=\"UTF-8\">\\n    <meta name=\"viewport\" content=\"width=device-width, initial-scale=1.0\">\\n    <title>Shoyeb Ansari</title>\\n    <link rel=\"preconnect\" href=\"https://fonts.googleapis.com\">\\n    <link rel=\"preconnect\" href=\"https://fonts.gstatic.com\" crossorigin>\\n    <link rel=\"stylesheet\" href=\"https://fonts.googleapis.com/css2?family=Playfair+Display:ital,wght@0,400..900;1,400..900&display=swap\">\\n    <link rel=\"stylesheet\" href=\"style.css\">\\n    </head>\\n<body>\\n    <div class=\"nav\">\\n        <div class=\"left\">\\n            <a href=\"\">SA.</a>\\n        </div>\\n        <div class=\"right\">\\n            <a href=\"#Contact\" class=\"navlink\">Contact</a>\\n            <a href=\"#pro\" class=\"navlink\">Projects</a>\\n            <a href=\"#Reso\" class=\"navlink\">Resources</a>\\n            <a href=\"#Educations\" class=\"navlink\">Education</a>\\n        </div>\\n    </div>\\n\\n    <div class=\"main\">\\n        <img src=\"https://res.cloudinary.com/ddfye0ekr/image/upload/c_crop,ar_1:1/v1711705852/WhatsApp_Image_2024-03-29_at_15.19.14_9ba7518d_m2s0g5.jpg\" alt=\"\">\\n        <div class=\"content\">\\n            <h2>Hi, I\\'m Shoyeb.</h2>\\n            <h2>I am aspiring to be a data scientist.</h2>\\n            <p>Passionate about mathematics and skilled in competitive programming and web development, I\\'m eager to become a data scientist. I love solving problems and using numbers to uncover insights that drive innovation.</p>\\n        </div>\\n    </div>\\n\\n    <div class=\"title\" >\\n        <h1 id=\"Educations\">Education</h1>\\n    </div>\\n    <div class=\"education\" >\\n        <h2>Undergraduation</h2>\\n        <ul> <li>\\n      <dl>\\n          <dt class=\"inst\">Indian Institute of Technology Guwahati</dt>\\n        <dd>-Bsc(Hon) in DS and AI</dd>\\n    </dl>\\n</li> </ul>\\n\\n<h2>Certification</h2>\\n<ul> <li class=\"inst\">Physics Wallah Institute of Innovation</li> </ul>\\n<h2>Secondary and higher secondary education</h2>\\n<ul> \\n    <li class=\"inst\">Jawahar Navodaya Vidyalaya, Dumra</li> \\n    <ul>\\n        <li type=\"square\"> <dl>\\n            <dt>HSC CBSE Board (2021-22)</dt>\\n            <dd>94%</dd>\\n        </dl>\\n    </li>\\n    <li type=\"square\">\\n        <dt>SSC CBSE Board(2019-20)</dt>\\n        <dd>94%</dd>\\n    </li>\\n</ul>\\n</ul>\\n</div>\\n<div class=\"title\">\\n    <h1>Skills</h1>\\n</div>\\n<div class=\"skill\">\\n        <div class=\"skillbox\"><p>Java</p></div>\\n        <div class=\"skillbox\"><p>C/C++</p></div>\\n        <div class=\"skillbox\"><p>Python</p></div>\\n        <div class=\"skillbox\"><p>Javascript</p></div>\\n        <div class=\"skillbox\"><p>HTML/CSS</p></div>\\n        <div class=\"skillbox\"><p>SQL</p></div>\\n        <div class=\"skillbox\"><p>Pandas</p></div>\\n        <div class=\"skillbox\"><p>Excel</p></div>\\n    </div>\\n\\n    <div class=\"title\">\\n        <h1 id=\"pro\">Projects</h1>\\n    </div>\\n    <div class=\"projects\" >\\n        <div class=\"card\">\\n            <h2>Tic Tac Toe</h2>\\n            <p>Playes vs Player Tic Tac Toe game, developed using HTML,CSS AND Javascript</p>\\n            \\n                <a href=\"https://tictactoe45.vercel.app/\" target=\"_blank\">Website</a>\\n            \\n            \\n                <a href=\"https://github.com/Shoyeb45/MiniProjects/tree/main/Tic%20Tac%20Toe\" target=\"_blank\">Github Repo</a>\\n           \\n        </div>\\n        <div class=\"card\">\\n            <h2>Portfolio</h2>\\n            <p>Personal portfolio developed using HTML and CSS.</p>\\n         \\n                <a href=\"#\" target=\"_blank\">Website</a>\\n\\n         \\n                <a href=\"https://github.com/Shoyeb45/Portfolio\" target=\"_blank\">Github Repo</a>\\n            \\n        </div>\\n        <div class=\"card\">\\n            <h2>Lenskart Clone</h2>\\n            <p>Made lenskart clone using HTML and CSS.</p>\\n         \\n                <a href=\"https://lenskartclone45.vercel.app/\" target=\"_blank\">Website</a>\\n            \\n         \\n                <a href=\"https://github.com/Shoyeb45/lenskartClone\" target=\"_blank\">Github Repo</a>\\n            \\n        </div>\\n    </div>\\n\\n    <div class=\"title\">\\n        <h1>Resources</h1>\\n    </div>\\n  \\n    <div class=\"resource\" id=\"Reso\">\\n        <div class=\"notebox\">\\n            <h2>Python</h2>\\n            <a href=\"https://shoyeb.notion.site/Python-a95cb7e57fa24caab007237ed9f16d50?pvs=4\" target=\"_blank\">Notion Link</a>\\n        </div>\\n        <div class=\"notebox\">\\n            <h2>Data Science</h2>\\n            <a href=\"https://shoyeb.notion.site/Data-Science-f5fed1e5576a43909b48df2bf9c18ab9?pvs=4\" target=\"_blank\">Notion Link</a>\\n        </div>\\n        <div class=\"notebox\">\\n            <h2>Excel</h2>\\n            <a href=\"https://shoyeb.notion.site/Excel-and-Spreadsheet-2966dcf634394024a2b2c7b7bed228d3?pvs=4\" target=\"_blank\">Notion Link</a>\\n        </div>\\n            <div class=\"notebox\">\\n                <h2>C Programming</h2>\\n                <a href=\"https://shoyeb.notion.site/C-Programming-25794a1e064641d2a15348272d32edac?pvs=4\" target=\"_blank\">Notion Link</a>\\n            </div>\\n            <div class=\"notebox\">\\n                <h2>Javascript</h2>\\n                <a href=\"https://shoyeb.notion.site/JavaScript-5dea72739fea4f1a912ecb891ee1b9fa?pvs=4\" target=\"_blank\">Notion Link</a>\\n            </div>\\n            <div class=\"notebox\">\\n                <h2>HTML/CSS</h2>\\n                <a href=\"https://shoyeb.notion.site/HTML-CSS-e63ba3182629427d9182197dbd89dff0?pvs=4\" target=\"_blank\">Notion Link</a>\\n            </div>\\n            <div class=\"notebox\">\\n                <h2>Linux</h2>\\n                <a href=\"https://shoyeb.notion.site/Linux-904d572795c34b3a80537e00d62dcd35?pvs=4\" target=\"_blank\">Notion Link</a>\\n            </div>\\n            <div class=\"notebox\">\\n                <h2>Pandas</h2>\\n                <a href=\"https://shoyeb.notion.site/Pandas-Numpy-d0c225351fa2459a94979bb80f424b37?pvs=4\" target=\"_blank\">Notion Link</a>\\n        </div>\\n    </div>\\n\\n    <div class=\"footer\" id=\"Contact\">\\n        <a href=\"https://github.com/Shoyeb45\" target=\"_blank\">\\n            <img src=\"https://res.cloudinary.com/ddfye0ekr/image/upload/v1711692458/github_nugibh.png\" alt=\"\" height=\"35px\">\\n        </a>\\n        <a href=\"https://www.linkedin.com/in/shoyebansari45/\" target=\"_blank\">\\n            <img src=\"https://res.cloudinary.com/ddfye0ekr/image/upload/v1711692459/linkedin_iezl5u.png\" alt=\"\" height=\"35px\">\\n        </a>\\n        <a href=\"mailto:shoyebff45@gmail.com\" target=\"_blank\">\\n            <img src=\"https://res.cloudinary.com/ddfye0ekr/image/upload/v1711692459/mail_dvyq4s.png\" alt=\"\" height=\"35px\">\\n        </a>\\n        <a href=\"tel:9327156940\" target=\"_blank\">\\n            <img src=\"https://res.cloudinary.com/ddfye0ekr/image/upload/v1711692459/telephone_yjcpuq.png\" alt=\"\" height=\"35px\">\\n        </a>\\n    </div>\\n</body>\\n</html>'\n"
     ]
    }
   ],
   "source": [
    "print(response.content)"
   ]
  },
  {
   "cell_type": "code",
   "execution_count": 11,
   "metadata": {},
   "outputs": [],
   "source": [
    "soup = BeautifulSoup(response.text, \"html.parser\")"
   ]
  },
  {
   "cell_type": "code",
   "execution_count": 12,
   "metadata": {},
   "outputs": [
    {
     "name": "stdout",
     "output_type": "stream",
     "text": [
      "\n",
      "#Contact\n",
      "#pro\n",
      "#Reso\n",
      "#Educations\n",
      "https://tictactoe45.vercel.app/\n",
      "https://github.com/Shoyeb45/MiniProjects/tree/main/Tic%20Tac%20Toe\n",
      "#\n",
      "https://github.com/Shoyeb45/Portfolio\n",
      "https://lenskartclone45.vercel.app/\n",
      "https://github.com/Shoyeb45/lenskartClone\n",
      "https://shoyeb.notion.site/Python-a95cb7e57fa24caab007237ed9f16d50?pvs=4\n",
      "https://shoyeb.notion.site/Data-Science-f5fed1e5576a43909b48df2bf9c18ab9?pvs=4\n",
      "https://shoyeb.notion.site/Excel-and-Spreadsheet-2966dcf634394024a2b2c7b7bed228d3?pvs=4\n",
      "https://shoyeb.notion.site/C-Programming-25794a1e064641d2a15348272d32edac?pvs=4\n",
      "https://shoyeb.notion.site/JavaScript-5dea72739fea4f1a912ecb891ee1b9fa?pvs=4\n",
      "https://shoyeb.notion.site/HTML-CSS-e63ba3182629427d9182197dbd89dff0?pvs=4\n",
      "https://shoyeb.notion.site/Linux-904d572795c34b3a80537e00d62dcd35?pvs=4\n",
      "https://shoyeb.notion.site/Pandas-Numpy-d0c225351fa2459a94979bb80f424b37?pvs=4\n",
      "https://github.com/Shoyeb45\n",
      "https://www.linkedin.com/in/shoyebansari45/\n",
      "mailto:shoyebff45@gmail.com\n",
      "tel:9327156940\n"
     ]
    }
   ],
   "source": [
    "for link in soup.find_all('a'):\n",
    "    print(link.get('href'))"
   ]
  },
  {
   "cell_type": "code",
   "execution_count": 13,
   "metadata": {},
   "outputs": [
    {
     "data": {
      "text/plain": [
       "<!DOCTYPE html>\n",
       "\n",
       "<html lang=\"en\">\n",
       "<head>\n",
       "<meta charset=\"utf-8\"/>\n",
       "<meta content=\"width=device-width, initial-scale=1.0\" name=\"viewport\"/>\n",
       "<title>Shoyeb Ansari</title>\n",
       "<link href=\"https://fonts.googleapis.com\" rel=\"preconnect\"/>\n",
       "<link crossorigin=\"\" href=\"https://fonts.gstatic.com\" rel=\"preconnect\"/>\n",
       "<link href=\"https://fonts.googleapis.com/css2?family=Playfair+Display:ital,wght@0,400..900;1,400..900&amp;display=swap\" rel=\"stylesheet\"/>\n",
       "<link href=\"style.css\" rel=\"stylesheet\"/>\n",
       "</head>\n",
       "<body>\n",
       "<div class=\"nav\">\n",
       "<div class=\"left\">\n",
       "<a href=\"\">SA.</a>\n",
       "</div>\n",
       "<div class=\"right\">\n",
       "<a class=\"navlink\" href=\"#Contact\">Contact</a>\n",
       "<a class=\"navlink\" href=\"#pro\">Projects</a>\n",
       "<a class=\"navlink\" href=\"#Reso\">Resources</a>\n",
       "<a class=\"navlink\" href=\"#Educations\">Education</a>\n",
       "</div>\n",
       "</div>\n",
       "<div class=\"main\">\n",
       "<img alt=\"\" src=\"https://res.cloudinary.com/ddfye0ekr/image/upload/c_crop,ar_1:1/v1711705852/WhatsApp_Image_2024-03-29_at_15.19.14_9ba7518d_m2s0g5.jpg\"/>\n",
       "<div class=\"content\">\n",
       "<h2>Hi, I'm Shoyeb.</h2>\n",
       "<h2>I am aspiring to be a data scientist.</h2>\n",
       "<p>Passionate about mathematics and skilled in competitive programming and web development, I'm eager to become a data scientist. I love solving problems and using numbers to uncover insights that drive innovation.</p>\n",
       "</div>\n",
       "</div>\n",
       "<div class=\"title\">\n",
       "<h1 id=\"Educations\">Education</h1>\n",
       "</div>\n",
       "<div class=\"education\">\n",
       "<h2>Undergraduation</h2>\n",
       "<ul> <li>\n",
       "<dl>\n",
       "<dt class=\"inst\">Indian Institute of Technology Guwahati</dt>\n",
       "<dd>-Bsc(Hon) in DS and AI</dd>\n",
       "</dl>\n",
       "</li> </ul>\n",
       "<h2>Certification</h2>\n",
       "<ul> <li class=\"inst\">Physics Wallah Institute of Innovation</li> </ul>\n",
       "<h2>Secondary and higher secondary education</h2>\n",
       "<ul>\n",
       "<li class=\"inst\">Jawahar Navodaya Vidyalaya, Dumra</li>\n",
       "<ul>\n",
       "<li type=\"square\"> <dl>\n",
       "<dt>HSC CBSE Board (2021-22)</dt>\n",
       "<dd>94%</dd>\n",
       "</dl>\n",
       "</li>\n",
       "<li type=\"square\">\n",
       "<dt>SSC CBSE Board(2019-20)</dt>\n",
       "<dd>94%</dd>\n",
       "</li>\n",
       "</ul>\n",
       "</ul>\n",
       "</div>\n",
       "<div class=\"title\">\n",
       "<h1>Skills</h1>\n",
       "</div>\n",
       "<div class=\"skill\">\n",
       "<div class=\"skillbox\"><p>Java</p></div>\n",
       "<div class=\"skillbox\"><p>C/C++</p></div>\n",
       "<div class=\"skillbox\"><p>Python</p></div>\n",
       "<div class=\"skillbox\"><p>Javascript</p></div>\n",
       "<div class=\"skillbox\"><p>HTML/CSS</p></div>\n",
       "<div class=\"skillbox\"><p>SQL</p></div>\n",
       "<div class=\"skillbox\"><p>Pandas</p></div>\n",
       "<div class=\"skillbox\"><p>Excel</p></div>\n",
       "</div>\n",
       "<div class=\"title\">\n",
       "<h1 id=\"pro\">Projects</h1>\n",
       "</div>\n",
       "<div class=\"projects\">\n",
       "<div class=\"card\">\n",
       "<h2>Tic Tac Toe</h2>\n",
       "<p>Playes vs Player Tic Tac Toe game, developed using HTML,CSS AND Javascript</p>\n",
       "<a href=\"https://tictactoe45.vercel.app/\" target=\"_blank\">Website</a>\n",
       "<a href=\"https://github.com/Shoyeb45/MiniProjects/tree/main/Tic%20Tac%20Toe\" target=\"_blank\">Github Repo</a>\n",
       "</div>\n",
       "<div class=\"card\">\n",
       "<h2>Portfolio</h2>\n",
       "<p>Personal portfolio developed using HTML and CSS.</p>\n",
       "<a href=\"#\" target=\"_blank\">Website</a>\n",
       "<a href=\"https://github.com/Shoyeb45/Portfolio\" target=\"_blank\">Github Repo</a>\n",
       "</div>\n",
       "<div class=\"card\">\n",
       "<h2>Lenskart Clone</h2>\n",
       "<p>Made lenskart clone using HTML and CSS.</p>\n",
       "<a href=\"https://lenskartclone45.vercel.app/\" target=\"_blank\">Website</a>\n",
       "<a href=\"https://github.com/Shoyeb45/lenskartClone\" target=\"_blank\">Github Repo</a>\n",
       "</div>\n",
       "</div>\n",
       "<div class=\"title\">\n",
       "<h1>Resources</h1>\n",
       "</div>\n",
       "<div class=\"resource\" id=\"Reso\">\n",
       "<div class=\"notebox\">\n",
       "<h2>Python</h2>\n",
       "<a href=\"https://shoyeb.notion.site/Python-a95cb7e57fa24caab007237ed9f16d50?pvs=4\" target=\"_blank\">Notion Link</a>\n",
       "</div>\n",
       "<div class=\"notebox\">\n",
       "<h2>Data Science</h2>\n",
       "<a href=\"https://shoyeb.notion.site/Data-Science-f5fed1e5576a43909b48df2bf9c18ab9?pvs=4\" target=\"_blank\">Notion Link</a>\n",
       "</div>\n",
       "<div class=\"notebox\">\n",
       "<h2>Excel</h2>\n",
       "<a href=\"https://shoyeb.notion.site/Excel-and-Spreadsheet-2966dcf634394024a2b2c7b7bed228d3?pvs=4\" target=\"_blank\">Notion Link</a>\n",
       "</div>\n",
       "<div class=\"notebox\">\n",
       "<h2>C Programming</h2>\n",
       "<a href=\"https://shoyeb.notion.site/C-Programming-25794a1e064641d2a15348272d32edac?pvs=4\" target=\"_blank\">Notion Link</a>\n",
       "</div>\n",
       "<div class=\"notebox\">\n",
       "<h2>Javascript</h2>\n",
       "<a href=\"https://shoyeb.notion.site/JavaScript-5dea72739fea4f1a912ecb891ee1b9fa?pvs=4\" target=\"_blank\">Notion Link</a>\n",
       "</div>\n",
       "<div class=\"notebox\">\n",
       "<h2>HTML/CSS</h2>\n",
       "<a href=\"https://shoyeb.notion.site/HTML-CSS-e63ba3182629427d9182197dbd89dff0?pvs=4\" target=\"_blank\">Notion Link</a>\n",
       "</div>\n",
       "<div class=\"notebox\">\n",
       "<h2>Linux</h2>\n",
       "<a href=\"https://shoyeb.notion.site/Linux-904d572795c34b3a80537e00d62dcd35?pvs=4\" target=\"_blank\">Notion Link</a>\n",
       "</div>\n",
       "<div class=\"notebox\">\n",
       "<h2>Pandas</h2>\n",
       "<a href=\"https://shoyeb.notion.site/Pandas-Numpy-d0c225351fa2459a94979bb80f424b37?pvs=4\" target=\"_blank\">Notion Link</a>\n",
       "</div>\n",
       "</div>\n",
       "<div class=\"footer\" id=\"Contact\">\n",
       "<a href=\"https://github.com/Shoyeb45\" target=\"_blank\">\n",
       "<img alt=\"\" height=\"35px\" src=\"https://res.cloudinary.com/ddfye0ekr/image/upload/v1711692458/github_nugibh.png\"/>\n",
       "</a>\n",
       "<a href=\"https://www.linkedin.com/in/shoyebansari45/\" target=\"_blank\">\n",
       "<img alt=\"\" height=\"35px\" src=\"https://res.cloudinary.com/ddfye0ekr/image/upload/v1711692459/linkedin_iezl5u.png\"/>\n",
       "</a>\n",
       "<a href=\"mailto:shoyebff45@gmail.com\" target=\"_blank\">\n",
       "<img alt=\"\" height=\"35px\" src=\"https://res.cloudinary.com/ddfye0ekr/image/upload/v1711692459/mail_dvyq4s.png\"/>\n",
       "</a>\n",
       "<a href=\"tel:9327156940\" target=\"_blank\">\n",
       "<img alt=\"\" height=\"35px\" src=\"https://res.cloudinary.com/ddfye0ekr/image/upload/v1711692459/telephone_yjcpuq.png\"/>\n",
       "</a>\n",
       "</div>\n",
       "</body>\n",
       "</html>"
      ]
     },
     "execution_count": 13,
     "metadata": {},
     "output_type": "execute_result"
    }
   ],
   "source": [
    "soup"
   ]
  },
  {
   "cell_type": "code",
   "execution_count": 15,
   "metadata": {},
   "outputs": [
    {
     "name": "stdout",
     "output_type": "stream",
     "text": [
      "https://res.cloudinary.com/ddfye0ekr/image/upload/c_crop,ar_1:1/v1711705852/WhatsApp_Image_2024-03-29_at_15.19.14_9ba7518d_m2s0g5.jpg\n",
      "https://res.cloudinary.com/ddfye0ekr/image/upload/v1711692458/github_nugibh.png\n",
      "https://res.cloudinary.com/ddfye0ekr/image/upload/v1711692459/linkedin_iezl5u.png\n",
      "https://res.cloudinary.com/ddfye0ekr/image/upload/v1711692459/mail_dvyq4s.png\n",
      "https://res.cloudinary.com/ddfye0ekr/image/upload/v1711692459/telephone_yjcpuq.png\n"
     ]
    }
   ],
   "source": [
    "for img in soup.find_all(\"img\"):\n",
    "    print(img.get(\"src\"))"
   ]
  },
  {
   "cell_type": "markdown",
   "metadata": {},
   "source": []
  }
 ],
 "metadata": {
  "kernelspec": {
   "display_name": "Python 3",
   "language": "python",
   "name": "python3"
  },
  "language_info": {
   "codemirror_mode": {
    "name": "ipython",
    "version": 3
   },
   "file_extension": ".py",
   "mimetype": "text/x-python",
   "name": "python",
   "nbconvert_exporter": "python",
   "pygments_lexer": "ipython3",
   "version": "3.12.6"
  }
 },
 "nbformat": 4,
 "nbformat_minor": 2
}
