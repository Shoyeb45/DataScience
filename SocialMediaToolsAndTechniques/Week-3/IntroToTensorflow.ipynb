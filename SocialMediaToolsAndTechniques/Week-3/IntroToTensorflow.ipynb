{
 "cells": [
  {
   "cell_type": "code",
   "execution_count": 2,
   "metadata": {},
   "outputs": [
    {
     "name": "stdout",
     "output_type": "stream",
     "text": [
      "The version of Tensorflow is: 2.18.0\n"
     ]
    }
   ],
   "source": [
    "import tensorflow as tf\n",
    "print(f\"The version of Tensorflow is: {tf.__version__}\")"
   ]
  },
  {
   "cell_type": "code",
   "execution_count": 3,
   "metadata": {},
   "outputs": [
    {
     "name": "stdout",
     "output_type": "stream",
     "text": [
      "tf.Tensor(1, shape=(), dtype=int32)\n"
     ]
    }
   ],
   "source": [
    "# Rank - 0 tensor\n",
    "t1 = tf.constant(1)\n",
    "print(t1)"
   ]
  },
  {
   "cell_type": "code",
   "execution_count": 4,
   "metadata": {},
   "outputs": [
    {
     "name": "stdout",
     "output_type": "stream",
     "text": [
      "tf.Tensor([ 1  4 12], shape=(3,), dtype=int32)\n"
     ]
    }
   ],
   "source": [
    "# Rank - 1 tesnor\n",
    "t2 = tf.constant([1, 4, 12])\n",
    "print(t2)"
   ]
  },
  {
   "cell_type": "code",
   "execution_count": 5,
   "metadata": {},
   "outputs": [
    {
     "name": "stdout",
     "output_type": "stream",
     "text": [
      "tf.Tensor(\n",
      "[[1 2]\n",
      " [3 4]\n",
      " [5 6]], shape=(3, 2), dtype=int32)\n"
     ]
    }
   ],
   "source": [
    "# Rank-2 tensor\n",
    "t3 = tf.constant([\n",
    "    [1, 2],\n",
    "    [3, 4],\n",
    "    [5, 6]\n",
    "])\n",
    "\n",
    "print(t3)"
   ]
  },
  {
   "cell_type": "code",
   "execution_count": 6,
   "metadata": {},
   "outputs": [
    {
     "name": "stdout",
     "output_type": "stream",
     "text": [
      "tf.Tensor(\n",
      "[[[1.00e+00 2.00e+00 3.00e+00 4.00e+00 5.00e+00]\n",
      "  [1.00e-01 2.00e-01 3.00e-01 4.00e-01 5.00e-01]]\n",
      "\n",
      " [[1.10e+01 1.20e+01 1.30e+01 1.40e+01 1.50e+01]\n",
      "  [1.10e-01 1.20e-01 1.30e-01 1.40e-01 1.50e-01]]\n",
      "\n",
      " [[1.11e+02 1.12e+02 1.13e+02 1.14e+02 1.15e+02]\n",
      "  [2.10e-01 2.20e-01 2.30e-01 2.40e-01 2.50e-01]]], shape=(3, 2, 5), dtype=float64)\n"
     ]
    }
   ],
   "source": [
    "# Rank-3 Tensor\n",
    "\n",
    "t4 = tf.constant([\n",
    "        [[1, 2, 3, 4, 5],\n",
    "        [0.1, 0.2, 0.3, 0.4, 0.5]],\n",
    "        [[11, 12, 13, 14, 15],\n",
    "        [0.11, 0.12, .13, .14, 0.15]],\n",
    "        [[111, 112, 113, 114, 115],\n",
    "        [0.21, 0.22, .23, .24, 0.25]]\n",
    "    ], dtype=\"float64\")\n",
    "\n",
    "print(t4)"
   ]
  },
  {
   "cell_type": "markdown",
   "metadata": {},
   "source": [
    "## Types of tensors \n",
    "1. Constant Tensors\n"
   ]
  },
  {
   "cell_type": "markdown",
   "metadata": {},
   "source": [
    "### 1. Constant Tensors "
   ]
  },
  {
   "cell_type": "code",
   "execution_count": 17,
   "metadata": {},
   "outputs": [
    {
     "name": "stdout",
     "output_type": "stream",
     "text": [
      "tf.Tensor(1, shape=(), dtype=int32)\n"
     ]
    }
   ],
   "source": [
    "# Zero dimension tensor\n",
    "tensor_0 = tf.constant(1, name=\"zeroDim\")\n",
    "print(tensor_0)\n"
   ]
  },
  {
   "cell_type": "code",
   "execution_count": 21,
   "metadata": {},
   "outputs": [
    {
     "name": "stdout",
     "output_type": "stream",
     "text": [
      "tf.Tensor([b'Shoyeb' b'Durgesh' b'Prakhar'], shape=(3,), dtype=string)\n"
     ]
    }
   ],
   "source": [
    "# One dimensional Tensor\n",
    "tensor_1 = tf.constant([\"Shoyeb\", \"Durgesh\", \"Prakhar\"])\n",
    "print(tensor_1)"
   ]
  },
  {
   "cell_type": "code",
   "execution_count": 28,
   "metadata": {},
   "outputs": [
    {
     "data": {
      "text/plain": [
       "(<tf.Tensor: shape=(3,), dtype=int32, numpy=array([3, 2, 5])>,\n",
       " <tf.Tensor: shape=(3,), dtype=int32, numpy=array([3, 2, 5])>)"
      ]
     },
     "execution_count": 28,
     "metadata": {},
     "output_type": "execute_result"
    }
   ],
   "source": [
    "tf.shape(t4), tf.shape(t4)"
   ]
  },
  {
   "cell_type": "code",
   "execution_count": 30,
   "metadata": {},
   "outputs": [
    {
     "name": "stdout",
     "output_type": "stream",
     "text": [
      "[[[1 2 3 4 5]\n",
      "  [0.1 0.2 0.3 0.4 0.5]]\n",
      "\n",
      " [[11 12 13 14 15]\n",
      "  [0.11 0.12 0.13 0.14 0.15]]\n",
      "\n",
      " [[111 112 113 114 115]\n",
      "  [0.21 0.22 0.23 0.24 0.25]]]\n"
     ]
    }
   ],
   "source": [
    "tf.print(t4)"
   ]
  },
  {
   "cell_type": "code",
   "execution_count": null,
   "metadata": {},
   "outputs": [],
   "source": []
  }
 ],
 "metadata": {
  "kernelspec": {
   "display_name": "Python 3",
   "language": "python",
   "name": "python3"
  },
  "language_info": {
   "codemirror_mode": {
    "name": "ipython",
    "version": 3
   },
   "file_extension": ".py",
   "mimetype": "text/x-python",
   "name": "python",
   "nbconvert_exporter": "python",
   "pygments_lexer": "ipython3",
   "version": "3.12.6"
  }
 },
 "nbformat": 4,
 "nbformat_minor": 2
}
