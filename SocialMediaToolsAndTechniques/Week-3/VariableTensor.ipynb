{
 "cells": [
  {
   "cell_type": "markdown",
   "metadata": {},
   "source": [
    "# Variable Tensors in TensorFlow\n",
    "\n",
    "In TensorFlow, `tf.Variable` is used to represent trainable variables in machine learning models. Unlike `tf.Tensor`, which is immutable, `tf.Variable` allows updates during training.\n"
   ]
  },
  {
   "cell_type": "markdown",
   "metadata": {},
   "source": [
    "## Creating Variable Tensors\n",
    "A `tf.Variable` can be created using `tf.Variable(initial_value)`, where `initial_value` is a tensor or a list/array.\n"
   ]
  },
  {
   "cell_type": "code",
   "execution_count": 1,
   "metadata": {
    "collapsed": false
   },
   "outputs": [
    {
     "name": "stdout",
     "output_type": "stream",
     "text": [
      "Variable 1: 5\n",
      "Variable 2: [1. 2. 3.]\n",
      "Variable 3: [[1. 1.]\n",
      " [1. 1.]]\n"
     ]
    }
   ],
   "source": [
    "import tensorflow as tf\n",
    "\n",
    "# Creating a Variable Tensor\n",
    "var1 = tf.Variable(5, dtype=tf.int32)  # Scalar variable\n",
    "var2 = tf.Variable([1.0, 2.0, 3.0], dtype=tf.float32)  # 1D Tensor variable\n",
    "var3 = tf.Variable(tf.ones((2, 2)))  # 2D Tensor initialized with ones\n",
    "\n",
    "print(\"Variable 1:\", var1.numpy())\n",
    "print(\"Variable 2:\", var2.numpy())\n",
    "print(\"Variable 3:\", var3.numpy())"
   ]
  },
  {
   "cell_type": "markdown",
   "metadata": {},
   "source": [
    "## Updating Variable Tensors\n",
    "`tf.Variable` allows modification using the `.assign()`, `.assign_add()`, and `.assign_sub()` methods."
   ]
  },
  {
   "cell_type": "code",
   "execution_count": 2,
   "metadata": {
    "collapsed": false
   },
   "outputs": [
    {
     "name": "stdout",
     "output_type": "stream",
     "text": [
      "Updated Variable 1: 10\n",
      "Updated Variable 2: [2. 3. 4.]\n",
      "Updated Variable 3: [[0. 0.]\n",
      " [0. 0.]]\n"
     ]
    }
   ],
   "source": [
    "# Updating a Variable Tensor\n",
    "var1.assign(10)  # Assign new value\n",
    "var2.assign_add([1.0, 1.0, 1.0])  # Element-wise addition\n",
    "var3.assign_sub(tf.ones((2, 2)))  # Element-wise subtraction\n",
    "\n",
    "print(\"Updated Variable 1:\", var1.numpy())\n",
    "print(\"Updated Variable 2:\", var2.numpy())\n",
    "print(\"Updated Variable 3:\", var3.numpy())"
   ]
  },
  {
   "cell_type": "markdown",
   "metadata": {},
   "source": [
    "## Differences Between `tf.Variable` and `tf.Tensor`\n",
    "- `tf.Tensor` is immutable, while `tf.Variable` can be updated.\n",
    "- `tf.Variable` is useful for storing weights and biases in deep learning models.\n"
   ]
  },
  {
   "cell_type": "code",
   "execution_count": 3,
   "metadata": {
    "collapsed": false
   },
   "outputs": [
    {
     "name": "stdout",
     "output_type": "stream",
     "text": [
      "Error modifying tf.Tensor: 'tensorflow.python.framework.ops.EagerTensor' object does not support item assignment\n",
      "Modified Variable: [10  2  3]\n"
     ]
    }
   ],
   "source": [
    "# Tensor vs Variable\n",
    "tensor = tf.constant([1, 2, 3])\n",
    "variable = tf.Variable([1, 2, 3])\n",
    "\n",
    "# Trying to modify the tensor (will cause an error)\n",
    "try:\n",
    "    tensor[0] = 10\n",
    "except TypeError as e:\n",
    "    print(\"Error modifying tf.Tensor:\", e)\n",
    "\n",
    "# Modifying the variable\n",
    "variable[0].assign(10)\n",
    "print(\"Modified Variable:\", variable.numpy())"
   ]
  },
  {
   "cell_type": "markdown",
   "metadata": {},
   "source": [
    "## Summary\n",
    "- Use `tf.Variable` for trainable parameters.\n",
    "- Use `.assign()`, `.assign_add()`, and `.assign_sub()` for updates.\n",
    "- `tf.Variable` is mutable, whereas `tf.Tensor` is immutable."
   ]
  }
 ],
 "metadata": {
  "kernelspec": {
   "display_name": "Python 3",
   "language": "python",
   "name": "python3"
  },
  "language_info": {
   "codemirror_mode": {
    "name": "ipython",
    "version": 3
   },
   "file_extension": ".py",
   "mimetype": "text/x-python",
   "name": "python",
   "nbconvert_exporter": "python",
   "pygments_lexer": "ipython3",
   "version": "3.12.6"
  }
 },
 "nbformat": 4,
 "nbformat_minor": 4
}
